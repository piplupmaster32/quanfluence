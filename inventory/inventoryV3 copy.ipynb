{
 "cells": [
  {
   "cell_type": "markdown",
   "id": "b51a8219",
   "metadata": {},
   "source": [
    "# <center> Inventory Management Problem </center>"
   ]
  },
  {
   "cell_type": "code",
   "execution_count": 1,
   "id": "25238b24",
   "metadata": {},
   "outputs": [],
   "source": [
    "import numpy as np\n",
    "import math\n",
    "import dimod\n",
    "from neal import SimulatedAnnealingSampler"
   ]
  },
  {
   "cell_type": "markdown",
   "id": "7bad62aa",
   "metadata": {},
   "source": [
    "### Generating Problem"
   ]
  },
  {
   "cell_type": "code",
   "execution_count": 2,
   "id": "aeaead7f",
   "metadata": {},
   "outputs": [
    {
     "name": "stdout",
     "output_type": "stream",
     "text": [
      "Generating for 3 products and 5 raw materials.\n"
     ]
    }
   ],
   "source": [
    "n_products = 3\n",
    "n_raw_materials = 5\n",
    "print(f\"Generating for {n_products} products and {n_raw_materials} raw materials.\")"
   ]
  },
  {
   "cell_type": "code",
   "execution_count": 3,
   "id": "2267a53c",
   "metadata": {},
   "outputs": [
    {
     "data": {
      "text/plain": [
       "((3,), (5, 3), (5,), (5,), (3,))"
      ]
     },
     "execution_count": 3,
     "metadata": {},
     "output_type": "execute_result"
    }
   ],
   "source": [
    "S = np.array([200., 240., 160.])\n",
    "A = np.floor(10 * (np.random.random(size=(n_raw_materials, n_products)))) + 1\n",
    "R = np.array([300., 360., 240., 270., 450.])  \n",
    "C = np.floor(5 * np.random.random(size=n_raw_materials)) + 1  \n",
    "D = np.array([30, 30, 30])\n",
    "\n",
    "S.shape, A.shape, R.shape, C.shape, D.shape"
   ]
  },
  {
   "cell_type": "code",
   "execution_count": 27,
   "id": "92633a52",
   "metadata": {},
   "outputs": [
    {
     "data": {
      "text/plain": [
       "array([200., 240., 160.])"
      ]
     },
     "execution_count": 27,
     "metadata": {},
     "output_type": "execute_result"
    }
   ],
   "source": [
    "S"
   ]
  },
  {
   "cell_type": "code",
   "execution_count": 4,
   "id": "f9c98e32",
   "metadata": {},
   "outputs": [
    {
     "name": "stdout",
     "output_type": "stream",
     "text": [
      "Problem size: 3 products, 5 raw materials\n",
      "Objective coefficients P: [-133. -179.  -56.]\n",
      "Demand limits D: [30 30 30]\n",
      "Raw material limits R: [300. 360. 240. 270. 450.]\n"
     ]
    }
   ],
   "source": [
    "P = C @ A - S\n",
    "\n",
    "print(f\"Problem size: {n_products} products, {n_raw_materials} raw materials\")\n",
    "print(f\"Objective coefficients P: {P}\")\n",
    "print(f\"Demand limits D: {D}\")\n",
    "print(f\"Raw material limits R: {R}\")"
   ]
  },
  {
   "cell_type": "markdown",
   "id": "34028d85",
   "metadata": {},
   "source": [
    "### Bounded Coefficient Encoding"
   ]
  },
  {
   "cell_type": "code",
   "execution_count": 5,
   "id": "43ac3a67",
   "metadata": {},
   "outputs": [],
   "source": [
    "def bounded_coefficient_encoding(kappa_x, mu_x):\n",
    "    \"\"\"Bounded-Coefficient Encoding Algorithm\"\"\"\n",
    "    \n",
    "    if kappa_x < 2**(math.floor(math.log2(mu_x)) + 1):\n",
    "        # Use binary encoding\n",
    "        log_kappa = math.floor(math.log2(kappa_x))\n",
    "        binary_coeffs = [2**i for i in range(log_kappa + 1)]\n",
    "        \n",
    "        if sum(binary_coeffs[:-1]) < kappa_x:\n",
    "            binary_coeffs[-1] = kappa_x - sum(binary_coeffs[:-1])\n",
    "        \n",
    "        return binary_coeffs\n",
    "    else:\n",
    "        # Use bounded-coefficient encoding\n",
    "        rho = math.floor(math.log2(mu_x)) + 1\n",
    "        nu = kappa_x - sum(2**(i-1) for i in range(1, rho + 1))\n",
    "        eta = math.floor(nu / mu_x)\n",
    "        \n",
    "        c_x = []\n",
    "        for i in range(1, rho + 1):\n",
    "            c_x.append(2**(i-1))\n",
    "        for i in range(eta):\n",
    "            c_x.append(mu_x)\n",
    "        \n",
    "        remainder = nu - eta * mu_x\n",
    "        if remainder != 0:\n",
    "            c_x.append(remainder)\n",
    "        \n",
    "        return c_x"
   ]
  },
  {
   "cell_type": "markdown",
   "id": "d41e5be4",
   "metadata": {},
   "source": [
    "We use the demands (`Di`) as the upper bound for `xi`, and the upper bounds (`Ri`) for the slack variables `si`"
   ]
  },
  {
   "cell_type": "code",
   "execution_count": 6,
   "id": "3030eed9",
   "metadata": {},
   "outputs": [
    {
     "name": "stdout",
     "output_type": "stream",
     "text": [
      "x1 encoding: 9 binary variables, coefficients: [1, 2, 4, 4, 4, 4, 4, 4, 3]\n",
      "x2 encoding: 9 binary variables, coefficients: [1, 2, 4, 4, 4, 4, 4, 4, 3]\n",
      "x3 encoding: 9 binary variables, coefficients: [1, 2, 4, 4, 4, 4, 4, 4, 3]\n",
      "s1 encoding: 14 binary variables, coefficients: [1, 2, 4, 8, 16, 32, 32, 32, 32, 32, 32, 32, 32, 13]\n",
      "s2 encoding: 16 binary variables, coefficients: [1, 2, 4, 8, 16, 32, 32, 32, 32, 32, 32, 32, 32, 32, 32, 9]\n",
      "s3 encoding: 12 binary variables, coefficients: [1, 2, 4, 8, 16, 32, 32, 32, 32, 32, 32, 17]\n",
      "s4 encoding: 13 binary variables, coefficients: [1, 2, 4, 8, 16, 32, 32, 32, 32, 32, 32, 32, 15]\n",
      "s5 encoding: 19 binary variables, coefficients: [1, 2, 4, 8, 16, 32, 32, 32, 32, 32, 32, 32, 32, 32, 32, 32, 32, 32, 3]\n"
     ]
    }
   ],
   "source": [
    "x_coefficients = []\n",
    "x_widths = []\n",
    "    \n",
    "for i in range(n_products):\n",
    "        coeffs = bounded_coefficient_encoding(int(D[i]), 4)\n",
    "        x_coefficients.append(coeffs)\n",
    "        x_widths.append(len(coeffs))\n",
    "        print(f\"x{i+1} encoding: {len(coeffs)} binary variables, coefficients: {coeffs}\")\n",
    "    \n",
    "s_coefficients = []\n",
    "s_widths = []\n",
    "    \n",
    "for i in range(n_raw_materials):\n",
    "        coeffs = bounded_coefficient_encoding(int(R[i]), 32)\n",
    "        s_coefficients.append(coeffs)\n",
    "        s_widths.append(len(coeffs))\n",
    "        print(f\"s{i+1} encoding: {len(coeffs)} binary variables, coefficients: {coeffs}\")"
   ]
  },
  {
   "cell_type": "code",
   "execution_count": 7,
   "id": "71c3f50e",
   "metadata": {},
   "outputs": [
    {
     "name": "stdout",
     "output_type": "stream",
     "text": [
      "Total binary variables: 101.\n"
     ]
    }
   ],
   "source": [
    "print(f\"Total binary variables: {sum(x_widths) + sum(s_widths)}.\")"
   ]
  },
  {
   "cell_type": "code",
   "execution_count": 8,
   "id": "7af1843b",
   "metadata": {},
   "outputs": [],
   "source": [
    "var_map = {}\n",
    "current_idx = 0\n",
    "    \n",
    "for i in range(n_products):\n",
    "        for j in range(x_widths[i]):\n",
    "            var_map[('x', i, j)] = current_idx\n",
    "            current_idx += 1\n",
    "\n",
    "for i in range(n_raw_materials):\n",
    "        for j in range(s_widths[i]):\n",
    "            var_map[('s', i, j)] = current_idx\n",
    "            current_idx += 1"
   ]
  },
  {
   "cell_type": "markdown",
   "id": "b243d7de",
   "metadata": {},
   "source": [
    "### Setting Up BQM"
   ]
  },
  {
   "cell_type": "code",
   "execution_count": 9,
   "id": "7971b714",
   "metadata": {},
   "outputs": [],
   "source": [
    "bqm = dimod.BinaryQuadraticModel({}, {}, 0.0, 'BINARY')"
   ]
  },
  {
   "cell_type": "code",
   "execution_count": 10,
   "id": "a4c4e6a7",
   "metadata": {},
   "outputs": [],
   "source": [
    "for i in range(n_products):\n",
    "        for j in range(x_widths[i]):\n",
    "            var_idx = var_map[('x', i, j)]\n",
    "            coefficient = P[i] * x_coefficients[i][j]\n",
    "            bqm.add_variable(var_idx, coefficient)"
   ]
  },
  {
   "cell_type": "code",
   "execution_count": 11,
   "id": "8f60e6f8",
   "metadata": {},
   "outputs": [],
   "source": [
    "penalty_strength = 1000"
   ]
  },
  {
   "cell_type": "code",
   "execution_count": 12,
   "id": "84495665",
   "metadata": {},
   "outputs": [],
   "source": [
    "for i in range(n_raw_materials):  # For each raw material constraint\n",
    "        \n",
    "        # Linear terms: A[i,j] * x[j] terms\n",
    "        linear_terms = {}\n",
    "        \n",
    "        # Add A[i,j] * x[j] terms (positive contribution)\n",
    "        for j in range(n_products):\n",
    "            for k in range(x_widths[j]):\n",
    "                var_idx = var_map[('x', j, k)]\n",
    "                coeff = A[i, j] * x_coefficients[j][k]\n",
    "                if var_idx in linear_terms:\n",
    "                    linear_terms[var_idx] += coeff\n",
    "                else:\n",
    "                    linear_terms[var_idx] = coeff\n",
    "        \n",
    "        # Add s[i] terms (positive contribution)\n",
    "        for k in range(s_widths[i]):\n",
    "            var_idx = var_map[('s', i, k)]\n",
    "            coeff = s_coefficients[i][k]\n",
    "            if var_idx in linear_terms:\n",
    "                linear_terms[var_idx] += coeff\n",
    "            else:\n",
    "                linear_terms[var_idx] = coeff\n",
    "        \n",
    "        # Add quadratic penalty terms for constraint: (A @ x + s - R)^2\n",
    "        # Expand: (sum_terms - R[i])^2 = sum_terms^2 - 2*R[i]*sum_terms + R[i]^2\n",
    "        \n",
    "        # Quadratic terms: interactions between different variables\n",
    "        var_indices = list(linear_terms.keys())\n",
    "        for idx1 in range(len(var_indices)):\n",
    "            for idx2 in range(idx1, len(var_indices)):\n",
    "                v1, v2 = var_indices[idx1], var_indices[idx2]\n",
    "                coeff1, coeff2 = linear_terms[v1], linear_terms[v2]\n",
    "                \n",
    "                if v1 == v2:\n",
    "                    # Diagonal term: coeff^2\n",
    "                    penalty = penalty_strength * coeff1 * coeff2\n",
    "                    bqm.add_variable(v1, penalty)\n",
    "                else:\n",
    "                    # Off-diagonal term: 2 * coeff1 * coeff2\n",
    "                    penalty = 2 * penalty_strength * coeff1 * coeff2\n",
    "                    bqm.add_interaction(v1, v2, penalty)\n",
    "        \n",
    "        # Linear penalty terms: -2 * R[i] * sum_terms\n",
    "        for var_idx, coeff in linear_terms.items():\n",
    "            penalty = -2 * penalty_strength * R[i] * coeff\n",
    "            bqm.add_variable(var_idx, penalty)\n",
    "        \n",
    "        # Constant term: R[i]^2 (added to offset)\n",
    "        bqm.offset += penalty_strength * R[i] * R[i]"
   ]
  },
  {
   "cell_type": "code",
   "execution_count": 13,
   "id": "ceb7a8f4",
   "metadata": {},
   "outputs": [],
   "source": [
    "encoding_info = {\n",
    "        'n_products': n_products,\n",
    "        'n_raw_materials': n_raw_materials,\n",
    "        'x_coefficients': x_coefficients,\n",
    "        's_coefficients': s_coefficients,\n",
    "        'x_widths': x_widths,\n",
    "        's_widths': s_widths,\n",
    "        'var_map': var_map,\n",
    "        'total_vars': sum(x_widths) + sum(s_widths),\n",
    "        'A': A,\n",
    "        'R': R,\n",
    "        'P': P,\n",
    "        'D': D,\n",
    "        'S': S,\n",
    "        'C': C\n",
    "}"
   ]
  },
  {
   "cell_type": "code",
   "execution_count": 14,
   "id": "ef9a26da",
   "metadata": {},
   "outputs": [
    {
     "name": "stdout",
     "output_type": "stream",
     "text": [
      "\n",
      "BQM created with 101 variables\n",
      "Linear terms: 101\n",
      "Quadratic terms: 2875\n"
     ]
    }
   ],
   "source": [
    "print(f\"\\nBQM created with {len(bqm.variables)} variables\")\n",
    "print(f\"Linear terms: {len(bqm.linear)}\")\n",
    "print(f\"Quadratic terms: {len(bqm.quadratic)}\")"
   ]
  },
  {
   "cell_type": "markdown",
   "id": "b658eb1d",
   "metadata": {},
   "source": [
    "### Solving BQM using Simulated Annealing"
   ]
  },
  {
   "cell_type": "code",
   "execution_count": 15,
   "id": "ef3077f5",
   "metadata": {},
   "outputs": [],
   "source": [
    "sampler = SimulatedAnnealingSampler()\n",
    "sampleset = sampler.sample(bqm, num_reads = 1000)"
   ]
  },
  {
   "cell_type": "code",
   "execution_count": 16,
   "id": "00383906",
   "metadata": {},
   "outputs": [
    {
     "name": "stdout",
     "output_type": "stream",
     "text": [
      "Best energy: -6382.0\n"
     ]
    }
   ],
   "source": [
    "best_sample = sampleset.first.sample\n",
    "best_energy = sampleset.first.energy\n",
    "\n",
    "print(f\"Best energy: {best_energy}\")"
   ]
  },
  {
   "cell_type": "markdown",
   "id": "9272214e",
   "metadata": {},
   "source": [
    "### Decoding"
   ]
  },
  {
   "cell_type": "code",
   "execution_count": 17,
   "id": "744af647",
   "metadata": {},
   "outputs": [],
   "source": [
    "x_coeffs = encoding_info['x_coefficients']\n",
    "s_coeffs = encoding_info['s_coefficients']\n",
    "x_widths = encoding_info['x_widths']\n",
    "s_widths = encoding_info['s_widths']\n",
    "var_map = encoding_info['var_map']\n",
    "n_products = encoding_info['n_products']\n",
    "n_raw_materials = encoding_info['n_raw_materials']"
   ]
  },
  {
   "cell_type": "code",
   "execution_count": 18,
   "id": "f7a5d9ea",
   "metadata": {},
   "outputs": [],
   "source": [
    "x_values = np.zeros(n_products)\n",
    "for i in range(n_products):\n",
    "        for j in range(x_widths[i]):\n",
    "            var_idx = var_map[('x', i, j)]\n",
    "            if best_sample[var_idx] == 1:\n",
    "                x_values[i] += x_coeffs[i][j]\n",
    "\n",
    "s_values = np.zeros(n_raw_materials)\n",
    "for i in range(n_raw_materials):\n",
    "        for j in range(s_widths[i]):\n",
    "            var_idx = var_map[('s', i, j)]\n",
    "            if best_sample[var_idx] == 1:\n",
    "                s_values[i] += s_coeffs[i][j]"
   ]
  },
  {
   "cell_type": "code",
   "execution_count": 19,
   "id": "4d2f2ee1",
   "metadata": {},
   "outputs": [
    {
     "data": {
      "text/plain": [
       "(array([14., 24.,  4.]), array([130., 106.,  94.,  56., 304.]))"
      ]
     },
     "execution_count": 19,
     "metadata": {},
     "output_type": "execute_result"
    }
   ],
   "source": [
    "x_values, s_values"
   ]
  },
  {
   "cell_type": "markdown",
   "id": "ebc06ee2",
   "metadata": {},
   "source": [
    "### Calculating Profit"
   ]
  },
  {
   "cell_type": "code",
   "execution_count": 20,
   "id": "9564133c",
   "metadata": {},
   "outputs": [],
   "source": [
    "def calculate_profit_metrics(x_values, encoding_info):\n",
    "    \"\"\"Calculate detailed profit and cost metrics\"\"\"\n",
    "    \n",
    "    S = encoding_info.get('S', None)\n",
    "    A = encoding_info['A']\n",
    "    C = encoding_info.get('C', None)\n",
    "    \n",
    "    # Need to extract S and C from problem data\n",
    "    # We'll calculate them from P if not available\n",
    "    P = encoding_info['P']\n",
    "    \n",
    "    metrics = {}\n",
    "    \n",
    "    # Raw material usage\n",
    "    raw_material_usage = A @ x_values\n",
    "    metrics['raw_material_usage'] = raw_material_usage\n",
    "    \n",
    "    # If we have the original cost and selling price data\n",
    "    if S is not None and C is not None:\n",
    "        # Revenue calculation\n",
    "        total_revenue = S @ x_values\n",
    "        metrics['total_revenue'] = total_revenue\n",
    "        metrics['revenue_by_product'] = S * x_values\n",
    "        \n",
    "        # Cost calculation  \n",
    "        total_raw_material_cost = C @ raw_material_usage\n",
    "        metrics['total_raw_material_cost'] = total_raw_material_cost\n",
    "        metrics['cost_by_material'] = C * raw_material_usage\n",
    "        \n",
    "        # Profit calculation\n",
    "        total_profit = total_revenue - total_raw_material_cost\n",
    "        metrics['total_profit'] = total_profit\n",
    "        metrics['profit_margin'] = total_profit / total_revenue if total_revenue > 0 else 0\n",
    "    \n",
    "    # Objective function value (cost-based objective from BQM)\n",
    "    objective_value = P @ x_values\n",
    "    metrics['objective_value'] = objective_value\n",
    "    \n",
    "    return metrics"
   ]
  },
  {
   "cell_type": "code",
   "execution_count": 21,
   "id": "9bbe0235",
   "metadata": {},
   "outputs": [
    {
     "data": {
      "text/plain": [
       "{'raw_material_usage': array([170., 254., 146., 214., 146.]),\n",
       " 'total_revenue': np.float64(9200.0),\n",
       " 'revenue_by_product': array([2800., 5760.,  640.]),\n",
       " 'total_raw_material_cost': np.float64(2818.0),\n",
       " 'cost_by_material': array([ 510.,  508.,  146., 1070.,  584.]),\n",
       " 'total_profit': np.float64(6382.0),\n",
       " 'profit_margin': np.float64(0.693695652173913),\n",
       " 'objective_value': np.float64(-6382.0)}"
      ]
     },
     "execution_count": 21,
     "metadata": {},
     "output_type": "execute_result"
    }
   ],
   "source": [
    "calculate_profit_metrics(x_values, encoding_info)"
   ]
  },
  {
   "cell_type": "markdown",
   "id": "932439b4",
   "metadata": {},
   "source": [
    "### Extras (for Presentation, AI Generated)"
   ]
  },
  {
   "cell_type": "code",
   "execution_count": 22,
   "id": "157d7836",
   "metadata": {},
   "outputs": [],
   "source": [
    "def analyze_resource_utilization(x_values, s_values, encoding_info):\n",
    "    \"\"\"Analyze how efficiently resources are being used\"\"\"\n",
    "    \n",
    "    A = encoding_info['A']\n",
    "    R = encoding_info['R']\n",
    "    D = encoding_info['D']\n",
    "    n_products = encoding_info['n_products']\n",
    "    n_raw_materials = encoding_info['n_raw_materials']\n",
    "    \n",
    "    analysis = {}\n",
    "    \n",
    "    # Raw material utilization\n",
    "    raw_usage = A @ x_values\n",
    "    utilization_rates = raw_usage / R\n",
    "    analysis['raw_material_utilization'] = {\n",
    "        'usage': raw_usage,\n",
    "        'capacity': R,\n",
    "        'utilization_rate': utilization_rates,\n",
    "        'slack': s_values,\n",
    "        'unused_capacity': R - raw_usage\n",
    "    }\n",
    "    \n",
    "    # Product demand fulfillment\n",
    "    demand_fulfillment = x_values / D\n",
    "    analysis['demand_fulfillment'] = {\n",
    "        'production': x_values,\n",
    "        'demand': D,\n",
    "        'fulfillment_rate': demand_fulfillment,\n",
    "        'unmet_demand': D - x_values\n",
    "    }\n",
    "    \n",
    "    # Bottleneck analysis\n",
    "    bottleneck_material = np.argmax(utilization_rates)\n",
    "    analysis['bottlenecks'] = {\n",
    "        'most_constrained_material': bottleneck_material,\n",
    "        'highest_utilization_rate': utilization_rates[bottleneck_material],\n",
    "        'utilization_ranking': np.argsort(utilization_rates)[::-1]\n",
    "    }\n",
    "    \n",
    "    return analysis\n",
    "\n",
    "def comprehensive_solution_report(x_values, s_values, encoding_info, include_sensitivity=True):\n",
    "    \"\"\"Generate a comprehensive report of the solution\"\"\"\n",
    "    \n",
    "    print(\"\\n\" + \"=\"*60)\n",
    "    print(\"           COMPREHENSIVE SOLUTION REPORT\")\n",
    "    print(\"=\"*60)\n",
    "    \n",
    "    # Basic solution\n",
    "    print(\"\\n📊 OPTIMAL SOLUTION:\")\n",
    "    print(\"-\" * 30)\n",
    "    for i, val in enumerate(x_values):\n",
    "        print(f\"Product {i+1} production: {val:.2f} units\")\n",
    "    \n",
    "    print(f\"\\nSlack variables: {s_values}\")\n",
    "    \n",
    "    # Profit metrics\n",
    "    print(\"\\n💰 FINANCIAL ANALYSIS:\")\n",
    "    print(\"-\" * 30)\n",
    "    metrics = calculate_profit_metrics(x_values, encoding_info)\n",
    "    \n",
    "    if 'total_profit' in metrics:\n",
    "        print(f\"Total Revenue: ${metrics['total_revenue']:.2f}\")\n",
    "        print(f\"Total Raw Material Cost: ${metrics['total_raw_material_cost']:.2f}\")\n",
    "        print(f\"Total Profit: ${metrics['total_profit']:.2f}\")\n",
    "        print(f\"Profit Margin: {metrics['profit_margin']*100:.1f}%\")\n",
    "        \n",
    "        print(f\"\\nRevenue by Product:\")\n",
    "        for i, rev in enumerate(metrics['revenue_by_product']):\n",
    "            print(f\"  Product {i+1}: ${rev:.2f}\")\n",
    "            \n",
    "        print(f\"\\nCost by Raw Material:\")\n",
    "        for i, cost in enumerate(metrics['cost_by_material']):\n",
    "            print(f\"  Material {i+1}: ${cost:.2f}\")\n",
    "    \n",
    "    print(f\"\\nObjective Function Value: {metrics['objective_value']:.2f}\")\n",
    "    \n",
    "    # Resource utilization\n",
    "    print(\"\\n🏭 RESOURCE UTILIZATION ANALYSIS:\")\n",
    "    print(\"-\" * 30)\n",
    "    resource_analysis = analyze_resource_utilization(x_values, s_values, encoding_info)\n",
    "    \n",
    "    rm_util = resource_analysis['raw_material_utilization']\n",
    "    print(\"Raw Material Utilization:\")\n",
    "    for i in range(len(rm_util['usage'])):\n",
    "        util_pct = rm_util['utilization_rate'][i] * 100\n",
    "        print(f\"  Material {i+1}: {rm_util['usage'][i]:.1f}/{rm_util['capacity'][i]:.1f} \"\n",
    "              f\"({util_pct:.1f}% utilized, {rm_util['unused_capacity'][i]:.1f} unused)\")\n",
    "    \n",
    "    demand_analysis = resource_analysis['demand_fulfillment']\n",
    "    print(f\"\\nDemand Fulfillment:\")\n",
    "    for i in range(len(demand_analysis['production'])):\n",
    "        fulfill_pct = demand_analysis['fulfillment_rate'][i] * 100\n",
    "        print(f\"  Product {i+1}: {demand_analysis['production'][i]:.1f}/{demand_analysis['demand'][i]:.1f} \"\n",
    "              f\"({fulfill_pct:.1f}% fulfilled, {demand_analysis['unmet_demand'][i]:.1f} unmet)\")\n",
    "    \n",
    "    # Bottleneck analysis\n",
    "    bottlenecks = resource_analysis['bottlenecks']\n",
    "    print(f\"\\n🚦 BOTTLENECK ANALYSIS:\")\n",
    "    print(\"-\" * 30)\n",
    "    print(f\"Most constrained material: Material {bottlenecks['most_constrained_material']+1} \"\n",
    "          f\"({bottlenecks['highest_utilization_rate']*100:.1f}% utilized)\")\n",
    "    \n",
    "    print(\"Materials ranked by utilization:\")\n",
    "    for rank, material_idx in enumerate(bottlenecks['utilization_ranking']):\n",
    "        util_rate = rm_util['utilization_rate'][material_idx] * 100\n",
    "        print(f\"  {rank+1}. Material {material_idx+1}: {util_rate:.1f}%\")\n",
    "    \n",
    "    return metrics, resource_analysis\n",
    "\n",
    "def compare_multiple_solutions(sampleset, encoding_info, top_n=5):\n",
    "    \"\"\"Compare top N solutions from the sampleset\"\"\"\n",
    "    \n",
    "    print(f\"\\n🔍 COMPARING TOP {top_n} SOLUTIONS:\")\n",
    "    print(\"=\"*50)\n",
    "    \n",
    "    solutions_data = []\n",
    "    \n",
    "    for i, sample_data in enumerate(sampleset.data()):\n",
    "        if i >= top_n:\n",
    "            break\n",
    "            \n",
    "        sample = sample_data.sample\n",
    "        energy = sample_data.energy\n",
    "        \n",
    "        x_vals, s_vals = decode_solution(sample, encoding_info)\n",
    "        is_valid = validate_solution(x_vals, s_vals, encoding_info)\n",
    "        metrics = calculate_profit_metrics(x_vals, encoding_info)\n",
    "        \n",
    "        solution_info = {\n",
    "            'rank': i+1,\n",
    "            'energy': energy,\n",
    "            'x_values': x_vals,\n",
    "            's_values': s_vals,\n",
    "            'is_valid': is_valid,\n",
    "            'metrics': metrics\n",
    "        }\n",
    "        solutions_data.append(solution_info)\n",
    "        \n",
    "        print(f\"\\nSolution {i+1}:\")\n",
    "        print(f\"  Energy: {energy:.2f}\")\n",
    "        print(f\"  Valid: {is_valid}\")\n",
    "        print(f\"  Production: {x_vals}\")\n",
    "        if 'total_profit' in metrics:\n",
    "            print(f\"  Profit: ${metrics['total_profit']:.2f}\")\n",
    "        print(f\"  Objective: {metrics['objective_value']:.2f}\")\n",
    "    \n",
    "    return solutions_data\n",
    "\n",
    "def sensitivity_analysis(encoding_info, base_solution, parameter_variations=0.1):\n",
    "    \"\"\"Perform basic sensitivity analysis on key parameters\"\"\"\n",
    "    \n",
    "    print(f\"\\n🎯 SENSITIVITY ANALYSIS:\")\n",
    "    print(\"=\"*40)\n",
    "    print(\"(Showing impact of ±10% parameter changes)\")\n",
    "    \n",
    "    # This is a simplified sensitivity analysis\n",
    "    # In practice, you'd re-solve the BQM for each parameter change\n",
    "    \n",
    "    base_x, base_s = base_solution\n",
    "    base_metrics = calculate_profit_metrics(base_x, encoding_info)\n",
    "    \n",
    "    if 'total_profit' in base_metrics:\n",
    "        base_profit = base_metrics['total_profit']\n",
    "        print(f\"\\nBase case profit: ${base_profit:.2f}\")\n",
    "        \n",
    "        # Simulate impact of demand changes\n",
    "        D = encoding_info['D']\n",
    "        print(f\"\\nImpact of demand changes:\")\n",
    "        for i, demand in enumerate(D):\n",
    "            # Simplified: assume proportional production change\n",
    "            new_production = base_x.copy()\n",
    "            new_production[i] *= 1.1  # 10% increase\n",
    "            new_production[i] = min(new_production[i], demand * 1.1)\n",
    "            \n",
    "            new_metrics = calculate_profit_metrics(new_production, encoding_info)\n",
    "            if 'total_profit' in new_metrics:\n",
    "                profit_change = new_metrics['total_profit'] - base_profit\n",
    "                print(f\"  +10% demand for Product {i+1}: ${profit_change:+.2f} profit change\")\n",
    "\n",
    "def validate_solution(x_values, s_values, encoding_info):\n",
    "    \"\"\"Validate that solution satisfies constraints\"\"\"\n",
    "    \n",
    "    A = encoding_info['A']\n",
    "    R = encoding_info['R']\n",
    "    D = encoding_info['D']\n",
    "    P = encoding_info['P']\n",
    "    \n",
    "    print(\"Solution Validation:\")\n",
    "    print(f\"Production quantities: {x_values}\")\n",
    "    print(f\"Slack variables: {s_values}\")\n",
    "    \n",
    "    # Check demand constraints\n",
    "    demand_satisfied = all(x_values[i] <= D[i] for i in range(len(D)))\n",
    "    print(f\"Demand constraints satisfied: {demand_satisfied}\")\n",
    "    \n",
    "    # Check raw material constraints\n",
    "    raw_material_usage = A @ x_values\n",
    "    constraint_satisfaction = raw_material_usage + s_values\n",
    "    constraints_satisfied = np.allclose(constraint_satisfaction, R, atol=1e-6)\n",
    "    \n",
    "    print(f\"Raw material usage: {raw_material_usage}\")\n",
    "    print(f\"Raw material limits: {R}\")\n",
    "    print(f\"Constraint A@x + s: {constraint_satisfaction}\")\n",
    "    print(f\"Should equal R: {R}\")\n",
    "    print(f\"Raw material constraints satisfied: {constraints_satisfied}\")\n",
    "    \n",
    "    # Calculate objective value\n",
    "    objective_value = P @ x_values\n",
    "    print(f\"Objective value: {objective_value}\")\n",
    "    \n",
    "    return demand_satisfied and constraints_satisfied"
   ]
  },
  {
   "cell_type": "code",
   "execution_count": 23,
   "id": "4dcc2397",
   "metadata": {},
   "outputs": [
    {
     "name": "stdout",
     "output_type": "stream",
     "text": [
      "\n",
      "============================================================\n",
      "           COMPREHENSIVE SOLUTION REPORT\n",
      "============================================================\n",
      "\n",
      "📊 OPTIMAL SOLUTION:\n",
      "------------------------------\n",
      "Product 1 production: 14.00 units\n",
      "Product 2 production: 24.00 units\n",
      "Product 3 production: 4.00 units\n",
      "\n",
      "Slack variables: [130. 106.  94.  56. 304.]\n",
      "\n",
      "💰 FINANCIAL ANALYSIS:\n",
      "------------------------------\n",
      "Total Revenue: $9200.00\n",
      "Total Raw Material Cost: $2818.00\n",
      "Total Profit: $6382.00\n",
      "Profit Margin: 69.4%\n",
      "\n",
      "Revenue by Product:\n",
      "  Product 1: $2800.00\n",
      "  Product 2: $5760.00\n",
      "  Product 3: $640.00\n",
      "\n",
      "Cost by Raw Material:\n",
      "  Material 1: $510.00\n",
      "  Material 2: $508.00\n",
      "  Material 3: $146.00\n",
      "  Material 4: $1070.00\n",
      "  Material 5: $584.00\n",
      "\n",
      "Objective Function Value: -6382.00\n",
      "\n",
      "🏭 RESOURCE UTILIZATION ANALYSIS:\n",
      "------------------------------\n",
      "Raw Material Utilization:\n",
      "  Material 1: 170.0/300.0 (56.7% utilized, 130.0 unused)\n",
      "  Material 2: 254.0/360.0 (70.6% utilized, 106.0 unused)\n",
      "  Material 3: 146.0/240.0 (60.8% utilized, 94.0 unused)\n",
      "  Material 4: 214.0/270.0 (79.3% utilized, 56.0 unused)\n",
      "  Material 5: 146.0/450.0 (32.4% utilized, 304.0 unused)\n",
      "\n",
      "Demand Fulfillment:\n",
      "  Product 1: 14.0/30.0 (46.7% fulfilled, 16.0 unmet)\n",
      "  Product 2: 24.0/30.0 (80.0% fulfilled, 6.0 unmet)\n",
      "  Product 3: 4.0/30.0 (13.3% fulfilled, 26.0 unmet)\n",
      "\n",
      "🚦 BOTTLENECK ANALYSIS:\n",
      "------------------------------\n",
      "Most constrained material: Material 4 (79.3% utilized)\n",
      "Materials ranked by utilization:\n",
      "  1. Material 4: 79.3%\n",
      "  2. Material 2: 70.6%\n",
      "  3. Material 3: 60.8%\n",
      "  4. Material 1: 56.7%\n",
      "  5. Material 5: 32.4%\n"
     ]
    }
   ],
   "source": [
    "metrics, resource_analysis = comprehensive_solution_report(x_values, s_values, encoding_info, False)"
   ]
  },
  {
   "cell_type": "markdown",
   "id": "ab016380",
   "metadata": {},
   "source": [
    "### Using Binary Coefficient Encoding"
   ]
  },
  {
   "cell_type": "code",
   "execution_count": 24,
   "id": "5358d40d",
   "metadata": {},
   "outputs": [
    {
     "data": {
      "text/plain": [
       "((3,), (5, 3), (5,), (5,), (3,))"
      ]
     },
     "execution_count": 24,
     "metadata": {},
     "output_type": "execute_result"
    }
   ],
   "source": [
    "S.shape, A.shape, R.shape, C.shape, D.shape"
   ]
  },
  {
   "cell_type": "code",
   "execution_count": 25,
   "id": "f457529a",
   "metadata": {},
   "outputs": [
    {
     "data": {
      "text/plain": [
       "array([-133., -179.,  -56.])"
      ]
     },
     "execution_count": 25,
     "metadata": {},
     "output_type": "execute_result"
    }
   ],
   "source": [
    "x_coefficients = []\n",
    "x_widths = []\n",
    "    \n",
    "for i in range(n_products):\n",
    "        coeffs = bounded_coefficient_encoding(int(D[i]), int(D[i]))\n",
    "        x_coefficients.append(coeffs)\n",
    "        x_widths.append(len(coeffs))\n",
    "        print(f\"x{i+1} encoding: {len(coeffs)} binary variables, coefficients: {coeffs}\")\n",
    "    \n",
    "s_coefficients = []\n",
    "s_widths = []\n",
    "    \n",
    "for i in range(n_raw_materials):\n",
    "        coeffs = bounded_coefficient_encoding(int(R[i]), 32)\n",
    "        s_coefficients.append(coeffs)\n",
    "        s_widths.append(len(coeffs))\n",
    "        print(f\"s{i+1} encoding: {len(coeffs)} binary variables, coefficients: {coeffs}\")"
   ]
  }
 ],
 "metadata": {
  "kernelspec": {
   "display_name": ".venv",
   "language": "python",
   "name": "python3"
  },
  "language_info": {
   "codemirror_mode": {
    "name": "ipython",
    "version": 3
   },
   "file_extension": ".py",
   "mimetype": "text/x-python",
   "name": "python",
   "nbconvert_exporter": "python",
   "pygments_lexer": "ipython3",
   "version": "3.12.7"
  }
 },
 "nbformat": 4,
 "nbformat_minor": 5
}
