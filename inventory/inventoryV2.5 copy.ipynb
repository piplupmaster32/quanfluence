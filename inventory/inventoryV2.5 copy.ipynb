{
 "cells": [
  {
   "cell_type": "markdown",
   "id": "8ae5c4a5",
   "metadata": {},
   "source": [
    "### Inventory Management Problem"
   ]
  },
  {
   "cell_type": "code",
   "execution_count": 76,
   "id": "0b77c9d1",
   "metadata": {},
   "outputs": [],
   "source": [
    "import numpy as np\n",
    "import math\n",
    "import dimod\n",
    "from neal import SimulatedAnnealingSampler\n",
    "from inventory import *"
   ]
  },
  {
   "cell_type": "markdown",
   "id": "5e3268ab",
   "metadata": {},
   "source": [
    "### Generating Sample Problem"
   ]
  },
  {
   "cell_type": "code",
   "execution_count": 77,
   "id": "53bb0ab6",
   "metadata": {},
   "outputs": [
    {
     "name": "stdout",
     "output_type": "stream",
     "text": [
      "Generating for 3 products and 7 raw materials.\n"
     ]
    }
   ],
   "source": [
    "#n_products = int(input(\"Number of Products:\"))\n",
    "#n_raw_materials = int(input(\"Number of Raw Materials:\"))\n",
    "\n",
    "n_products = 3\n",
    "n_raw_materials = 7\n",
    "print(f\"Generating for {n_products} products and {n_raw_materials} raw materials.\")"
   ]
  },
  {
   "cell_type": "code",
   "execution_count": 78,
   "id": "caf6862d",
   "metadata": {},
   "outputs": [
    {
     "data": {
      "text/plain": [
       "((3,), (7, 3), (7,), (7,), (3,))"
      ]
     },
     "execution_count": 78,
     "metadata": {},
     "output_type": "execute_result"
    }
   ],
   "source": [
    "S = np.array([200., 240., 160.])\n",
    "A = np.floor(10 * (np.random.random(size=(n_raw_materials, n_products)))) + 1\n",
    "R = np.array([300., 360., 240., 270., 450., 600., 540.])  \n",
    "C = np.floor(5 * np.random.random(size=n_raw_materials)) + 1  \n",
    "D = np.array([30, 30, 30])\n",
    "\n",
    "S.shape, A.shape, R.shape, C.shape, D.shape"
   ]
  },
  {
   "cell_type": "code",
   "execution_count": 79,
   "id": "5e7cfe7c",
   "metadata": {},
   "outputs": [],
   "source": [
    "P = C @ A - S.T #objective matrix"
   ]
  },
  {
   "cell_type": "markdown",
   "id": "ccef1eae",
   "metadata": {},
   "source": [
    "### Encoding Functions"
   ]
  },
  {
   "cell_type": "code",
   "execution_count": 80,
   "id": "6ceb934b",
   "metadata": {},
   "outputs": [],
   "source": [
    "def bounded_coefficient_encoding(kappa_x, mu_x):\n",
    "    \"\"\"Bounded-Coefficient Encoding Algorithm\"\"\"\n",
    "    #print(f\"  Encoding variable with κ={kappa_x}, μ={mu_x}\")\n",
    "    \n",
    "    if kappa_x < 2**(math.floor(math.log2(mu_x)) + 1):\n",
    "        print(f\"    Using binary encoding\")\n",
    "        log_kappa = math.floor(math.log2(kappa_x))\n",
    "        binary_coeffs = [2**i for i in range(log_kappa + 1)]\n",
    "        \n",
    "        if sum(binary_coeffs[:-1]) < kappa_x:\n",
    "            binary_coeffs[-1] = kappa_x - sum(binary_coeffs[:-1])\n",
    "        \n",
    "        print(f\"    Coefficients: {binary_coeffs}\")\n",
    "        return binary_coeffs\n",
    "    else:\n",
    "        #print(f\"    Using bounded-coefficient encoding\")\n",
    "        rho = math.floor(math.log2(mu_x)) + 1\n",
    "        nu = kappa_x - sum(2**(i-1) for i in range(1, rho + 1))\n",
    "        eta = math.floor(nu / mu_x)\n",
    "        \n",
    "        c_x = []\n",
    "        for i in range(1, rho + 1):\n",
    "            c_x.append(2**(i-1))\n",
    "        for i in range(eta):\n",
    "            c_x.append(mu_x)\n",
    "        \n",
    "        remainder = nu - eta * mu_x\n",
    "        if remainder != 0:\n",
    "            c_x.append(remainder)\n",
    "        \n",
    "        #print(f\"    Coefficients: {c_x}\")\n",
    "        return c_x\n",
    "\n",
    "def create_bounded_encoding_system(kappa_vec, mu_vec):\n",
    "    \"\"\"Create complete encoding system\"\"\"\n",
    "    \n",
    "    all_coefficients = []\n",
    "    widths = []\n",
    "    \n",
    "    for i in range(len(kappa_vec)):\n",
    "        coeffs = bounded_coefficient_encoding(kappa_vec[i], mu_vec[i])\n",
    "        all_coefficients.append(coeffs)\n",
    "        widths.append(len(coeffs))\n",
    "    \n",
    "    total_binary_vars = sum(widths)\n",
    "    print(f\"Total binary variables: {total_binary_vars}\")\n",
    "    \n",
    "    return all_coefficients, widths, total_binary_vars\n",
    "\n",
    "def create_bounded_encoding_matrix(n_variables, all_coefficients, widths):\n",
    "    \"\"\"Create encoding matrix C where x = C @ y\"\"\"\n",
    "    total_binary_vars = sum(widths)\n",
    "    C = np.zeros((n_variables, total_binary_vars))\n",
    "    \n",
    "    start_idx = 0\n",
    "    for i in range(n_variables):\n",
    "        end_idx = start_idx + widths[i]\n",
    "        C[i, start_idx:end_idx] = all_coefficients[i]\n",
    "        start_idx = end_idx\n",
    "    \n",
    "    return C"
   ]
  },
  {
   "cell_type": "code",
   "execution_count": 81,
   "id": "ea6f7f0d",
   "metadata": {},
   "outputs": [
    {
     "name": "stdout",
     "output_type": "stream",
     "text": [
      "Total binary variables: 27\n"
     ]
    }
   ],
   "source": [
    "kappa_vec = D.astype(int)\n",
    "mu_vec = [4, 4, 4]\n",
    "all_coefficients, widths, total_binary_vars = create_bounded_encoding_system(kappa_vec, mu_vec)\n",
    "C_enc = create_bounded_encoding_matrix(n_products, all_coefficients, widths)"
   ]
  },
  {
   "cell_type": "markdown",
   "id": "deba995a",
   "metadata": {},
   "source": [
    "### QUBO Formulation"
   ]
  },
  {
   "cell_type": "code",
   "execution_count": null,
   "id": "dee2728a",
   "metadata": {},
   "outputs": [],
   "source": [
    "penalty_lambda = 1000"
   ]
  },
  {
   "cell_type": "code",
   "execution_count": 83,
   "id": "76dc0435",
   "metadata": {},
   "outputs": [],
   "source": [
    "variable_names = []\n",
    "for i in range(n_products):\n",
    "    for j in range(widths[i]):\n",
    "        variable_names.append(f\"x{i+1}_bin{j+1}\")"
   ]
  },
  {
   "cell_type": "code",
   "execution_count": 84,
   "id": "cfe5e92b",
   "metadata": {},
   "outputs": [
    {
     "data": {
      "text/plain": [
       "(27,)"
      ]
     },
     "execution_count": 84,
     "metadata": {},
     "output_type": "execute_result"
    }
   ],
   "source": [
    "q_linear = P.T @ C_enc\n",
    "q_linear.shape"
   ]
  },
  {
   "cell_type": "code",
   "execution_count": 85,
   "id": "a98a7080",
   "metadata": {},
   "outputs": [],
   "source": [
    "Q = np.zeros((total_binary_vars, total_binary_vars))\n",
    "q_penalty = np.zeros(total_binary_vars)"
   ]
  },
  {
   "cell_type": "code",
   "execution_count": 86,
   "id": "6efde703",
   "metadata": {},
   "outputs": [],
   "source": [
    "for j in range(n_raw_materials):\n",
    "    A_j = A[j, :].reshape(1, -1)\n",
    "    Q_j = C_enc.T @ A_j.T @ A_j @ C_enc\n",
    "    Q += penalty_lambda * Q_j\n",
    "\n",
    "    q_penalty_j = -2 * penalty_lambda * R[j] * (A_j @ C_enc).flatten()\n",
    "    q_penalty += q_penalty_j"
   ]
  },
  {
   "cell_type": "code",
   "execution_count": 87,
   "id": "56424f23",
   "metadata": {},
   "outputs": [],
   "source": [
    "q = q_linear + q_penalty"
   ]
  },
  {
   "cell_type": "code",
   "execution_count": 88,
   "id": "d66cd60c",
   "metadata": {},
   "outputs": [
    {
     "data": {
      "text/plain": [
       "((27, 27), (27,))"
      ]
     },
     "execution_count": 88,
     "metadata": {},
     "output_type": "execute_result"
    }
   ],
   "source": [
    "Q.shape, q.shape"
   ]
  },
  {
   "cell_type": "markdown",
   "id": "cb7c6b58",
   "metadata": {},
   "source": [
    "### BQM Formulation"
   ]
  },
  {
   "cell_type": "code",
   "execution_count": 89,
   "id": "347a8c32",
   "metadata": {},
   "outputs": [],
   "source": [
    "bqm = dimod.BinaryQuadraticModel.empty('BINARY')"
   ]
  },
  {
   "cell_type": "code",
   "execution_count": 90,
   "id": "b738aa2f",
   "metadata": {},
   "outputs": [],
   "source": [
    "for i, var_name in enumerate(variable_names):\n",
    "    bqm.add_variable(var_name, q[i])\n",
    "\n",
    "for i in range(len(variable_names)):\n",
    "    for j in range(i+1, len(variable_names)):\n",
    "        if abs(Q[i, j]) > 1e-10:\n",
    "            bqm.add_interaction(variable_names[i], variable_names[j], Q[i,j])"
   ]
  },
  {
   "cell_type": "code",
   "execution_count": 91,
   "id": "2b6c2f12",
   "metadata": {},
   "outputs": [],
   "source": [
    "sampler = SimulatedAnnealingSampler()\n",
    "sampleset = sampler.sample(bqm, num_reads=1000)"
   ]
  },
  {
   "cell_type": "code",
   "execution_count": 92,
   "id": "17a198a2",
   "metadata": {},
   "outputs": [],
   "source": [
    "def decode_solution(solution, C_enc, variable_names, all_coefficients, widths):\n",
    "    \"\"\"Decode binary solution back to original variables\"\"\"\n",
    "    \n",
    "    y = np.array([solution[var_name] for var_name in variable_names])\n",
    "    x = C_enc @ y\n",
    "    \n",
    "    print(f\"Binary solution: {y}\")\n",
    "    print(f\"Decoded solution x: {x}\")\n",
    "    \n",
    "    return x, y"
   ]
  },
  {
   "cell_type": "code",
   "execution_count": 93,
   "id": "8e7af07c",
   "metadata": {},
   "outputs": [
    {
     "name": "stdout",
     "output_type": "stream",
     "text": [
      "Binary solution: [1 1 1 1 1 1 1 1 1 1 1 1 1 1 1 1 1 1 1 1 1 1 1 1 1 1 1]\n",
      "Decoded solution x: [30. 30. 30.]\n"
     ]
    }
   ],
   "source": [
    "x_optimal, y_optimal = decode_solution(\n",
    "    sampleset.first.sample, C_enc, variable_names, all_coefficients, widths\n",
    ")"
   ]
  },
  {
   "cell_type": "markdown",
   "id": "1f61cbb9",
   "metadata": {},
   "source": [
    "### Testing approaches"
   ]
  },
  {
   "cell_type": "code",
   "execution_count": 1,
   "id": "58acda12",
   "metadata": {},
   "outputs": [
    {
     "name": "stdout",
     "output_type": "stream",
     "text": [
      "=== Inventory Management BQM Formulation ===\n",
      "Problem size: 3 products, 5 raw materials\n",
      "Objective coefficients P: [-132. -177.  -57.]\n",
      "Demand limits D: [30 30 30]\n",
      "Raw material limits R: [300. 360. 240. 270. 450.]\n",
      "x1 encoding: 5 binary variables, coefficients: [1, 2, 4, 8, 15]\n",
      "x2 encoding: 5 binary variables, coefficients: [1, 2, 4, 8, 15]\n",
      "x3 encoding: 5 binary variables, coefficients: [1, 2, 4, 8, 15]\n",
      "s1 encoding: 9 binary variables, coefficients: [1, 2, 4, 8, 16, 32, 64, 128, 45]\n",
      "s2 encoding: 9 binary variables, coefficients: [1, 2, 4, 8, 16, 32, 64, 128, 105]\n",
      "s3 encoding: 8 binary variables, coefficients: [1, 2, 4, 8, 16, 32, 64, 113]\n",
      "s4 encoding: 9 binary variables, coefficients: [1, 2, 4, 8, 16, 32, 64, 128, 15]\n",
      "s5 encoding: 9 binary variables, coefficients: [1, 2, 4, 8, 16, 32, 64, 128, 195]\n",
      "Total binary variables: 59 (15 for x, 44 for s)\n",
      "\n",
      "BQM created with 59 variables\n",
      "Linear terms: 59\n",
      "Quadratic terms: 937\n",
      "\n",
      "=== Solving with Simulated Annealing ===\n",
      "Best energy: -6099.0\n",
      "Solution Validation:\n",
      "Production quantities: [11. 24.  7.]\n",
      "Slack variables: [ 95.  94. 119.   0. 234.]\n",
      "Demand constraints satisfied: True\n",
      "Raw material usage: [205. 266. 121. 270. 216.]\n",
      "Raw material limits: [300. 360. 240. 270. 450.]\n",
      "Constraint A@x + s: [300. 360. 240. 270. 450.]\n",
      "Should equal R: [300. 360. 240. 270. 450.]\n",
      "Raw material constraints satisfied: True\n",
      "Objective value: -6099.0\n",
      "\n",
      "Solution is valid: True\n"
     ]
    }
   ],
   "source": [
    "import numpy as np\n",
    "import math\n",
    "import dimod\n",
    "from neal import SimulatedAnnealingSampler\n",
    "\n",
    "def bounded_coefficient_encoding(kappa_x, mu_x):\n",
    "    \"\"\"Bounded-Coefficient Encoding Algorithm\"\"\"\n",
    "    \n",
    "    if kappa_x < 2**(math.floor(math.log2(mu_x)) + 1):\n",
    "        # Use binary encoding\n",
    "        log_kappa = math.floor(math.log2(kappa_x))\n",
    "        binary_coeffs = [2**i for i in range(log_kappa + 1)]\n",
    "        \n",
    "        if sum(binary_coeffs[:-1]) < kappa_x:\n",
    "            binary_coeffs[-1] = kappa_x - sum(binary_coeffs[:-1])\n",
    "        \n",
    "        return binary_coeffs\n",
    "    else:\n",
    "        # Use bounded-coefficient encoding\n",
    "        rho = math.floor(math.log2(mu_x)) + 1\n",
    "        nu = kappa_x - sum(2**(i-1) for i in range(1, rho + 1))\n",
    "        eta = math.floor(nu / mu_x)\n",
    "        \n",
    "        c_x = []\n",
    "        for i in range(1, rho + 1):\n",
    "            c_x.append(2**(i-1))\n",
    "        for i in range(eta):\n",
    "            c_x.append(mu_x)\n",
    "        \n",
    "        remainder = nu - eta * mu_x\n",
    "        if remainder != 0:\n",
    "            c_x.append(remainder)\n",
    "        \n",
    "        return c_x\n",
    "\n",
    "def create_inventory_bqm(S, A, R, C, D, penalty_strength=1000):\n",
    "    \"\"\"\n",
    "    Create BQM for inventory management problem\n",
    "    \n",
    "    Parameters:\n",
    "    - S: selling prices (n_products,)\n",
    "    - A: recipe matrix (n_raw_materials, n_products) \n",
    "    - R: raw material upper limits (n_raw_materials,)\n",
    "    - C: raw material costs (n_raw_materials,)\n",
    "    - D: demand limits (n_products,)\n",
    "    - penalty_strength: strength of constraint penalties\n",
    "    \n",
    "    Returns:\n",
    "    - bqm: Binary Quadratic Model\n",
    "    - encoding_info: Information about variable encoding\n",
    "    \"\"\"\n",
    "    \n",
    "    n_products = len(S)\n",
    "    n_raw_materials = len(R)\n",
    "    \n",
    "    # Calculate objective coefficients\n",
    "    P = C @ A - S  # Cost of raw materials minus selling price\n",
    "    \n",
    "    print(f\"Problem size: {n_products} products, {n_raw_materials} raw materials\")\n",
    "    print(f\"Objective coefficients P: {P}\")\n",
    "    print(f\"Demand limits D: {D}\")\n",
    "    print(f\"Raw material limits R: {R}\")\n",
    "    \n",
    "    # Step 1: Encode production variables x1, x2, ..., xn with bounds D1, D2, ..., Dn\n",
    "    x_coefficients = []\n",
    "    x_widths = []\n",
    "    \n",
    "    for i in range(n_products):\n",
    "        coeffs = bounded_coefficient_encoding(int(D[i]), int(D[i]))\n",
    "        x_coefficients.append(coeffs)\n",
    "        x_widths.append(len(coeffs))\n",
    "        print(f\"x{i+1} encoding: {len(coeffs)} binary variables, coefficients: {coeffs}\")\n",
    "    \n",
    "    # Step 2: Encode slack variables s1, s2, ..., sm with bounds R1, R2, ..., Rm\n",
    "    s_coefficients = []\n",
    "    s_widths = []\n",
    "    \n",
    "    for i in range(n_raw_materials):\n",
    "        coeffs = bounded_coefficient_encoding(int(R[i]), int(R[i]))\n",
    "        s_coefficients.append(coeffs)\n",
    "        s_widths.append(len(coeffs))\n",
    "        print(f\"s{i+1} encoding: {len(coeffs)} binary variables, coefficients: {coeffs}\")\n",
    "    \n",
    "    # Step 3: Create variable mapping\n",
    "    total_x_vars = sum(x_widths)\n",
    "    total_s_vars = sum(s_widths)\n",
    "    total_vars = total_x_vars + total_s_vars\n",
    "    \n",
    "    print(f\"Total binary variables: {total_vars} ({total_x_vars} for x, {total_s_vars} for s)\")\n",
    "    \n",
    "    # Create mapping from (variable_type, index, bit) to binary variable index\n",
    "    var_map = {}\n",
    "    current_idx = 0\n",
    "    \n",
    "    # Map x variables\n",
    "    for i in range(n_products):\n",
    "        for j in range(x_widths[i]):\n",
    "            var_map[('x', i, j)] = current_idx\n",
    "            current_idx += 1\n",
    "    \n",
    "    # Map s variables  \n",
    "    for i in range(n_raw_materials):\n",
    "        for j in range(s_widths[i]):\n",
    "            var_map[('s', i, j)] = current_idx\n",
    "            current_idx += 1\n",
    "    \n",
    "    # Step 4: Create BQM\n",
    "    bqm = dimod.BinaryQuadraticModel({}, {}, 0.0, 'BINARY')\n",
    "    \n",
    "    # Add linear terms for objective function: P @ x\n",
    "    for i in range(n_products):\n",
    "        for j in range(x_widths[i]):\n",
    "            var_idx = var_map[('x', i, j)]\n",
    "            coefficient = P[i] * x_coefficients[i][j]\n",
    "            bqm.add_variable(var_idx, coefficient)\n",
    "    \n",
    "    # Step 5: Add constraint penalties: A @ x + s = R\n",
    "    # For each raw material constraint: sum(A[i,j] * x[j]) + s[i] = R[i]\n",
    "    \n",
    "    for i in range(n_raw_materials):  # For each raw material constraint\n",
    "        \n",
    "        # Linear terms: A[i,j] * x[j] terms\n",
    "        linear_terms = {}\n",
    "        \n",
    "        # Add A[i,j] * x[j] terms (positive contribution)\n",
    "        for j in range(n_products):\n",
    "            for k in range(x_widths[j]):\n",
    "                var_idx = var_map[('x', j, k)]\n",
    "                coeff = A[i, j] * x_coefficients[j][k]\n",
    "                if var_idx in linear_terms:\n",
    "                    linear_terms[var_idx] += coeff\n",
    "                else:\n",
    "                    linear_terms[var_idx] = coeff\n",
    "        \n",
    "        # Add s[i] terms (positive contribution)\n",
    "        for k in range(s_widths[i]):\n",
    "            var_idx = var_map[('s', i, k)]\n",
    "            coeff = s_coefficients[i][k]\n",
    "            if var_idx in linear_terms:\n",
    "                linear_terms[var_idx] += coeff\n",
    "            else:\n",
    "                linear_terms[var_idx] = coeff\n",
    "        \n",
    "        # Add quadratic penalty terms for constraint: (A @ x + s - R)^2\n",
    "        # Expand: (sum_terms - R[i])^2 = sum_terms^2 - 2*R[i]*sum_terms + R[i]^2\n",
    "        \n",
    "        # Quadratic terms: interactions between different variables\n",
    "        var_indices = list(linear_terms.keys())\n",
    "        for idx1 in range(len(var_indices)):\n",
    "            for idx2 in range(idx1, len(var_indices)):\n",
    "                v1, v2 = var_indices[idx1], var_indices[idx2]\n",
    "                coeff1, coeff2 = linear_terms[v1], linear_terms[v2]\n",
    "                \n",
    "                if v1 == v2:\n",
    "                    # Diagonal term: coeff^2\n",
    "                    penalty = penalty_strength * coeff1 * coeff2\n",
    "                    bqm.add_variable(v1, penalty)\n",
    "                else:\n",
    "                    # Off-diagonal term: 2 * coeff1 * coeff2\n",
    "                    penalty = 2 * penalty_strength * coeff1 * coeff2\n",
    "                    bqm.add_interaction(v1, v2, penalty)\n",
    "        \n",
    "        # Linear penalty terms: -2 * R[i] * sum_terms\n",
    "        for var_idx, coeff in linear_terms.items():\n",
    "            penalty = -2 * penalty_strength * R[i] * coeff\n",
    "            bqm.add_variable(var_idx, penalty)\n",
    "        \n",
    "        # Constant term: R[i]^2 (added to offset)\n",
    "        bqm.offset += penalty_strength * R[i] * R[i]\n",
    "    \n",
    "    # Encoding information for solution decoding\n",
    "    encoding_info = {\n",
    "        'n_products': n_products,\n",
    "        'n_raw_materials': n_raw_materials,\n",
    "        'x_coefficients': x_coefficients,\n",
    "        's_coefficients': s_coefficients,\n",
    "        'x_widths': x_widths,\n",
    "        's_widths': s_widths,\n",
    "        'var_map': var_map,\n",
    "        'total_vars': total_vars,\n",
    "        'A': A,\n",
    "        'R': R,\n",
    "        'P': P,\n",
    "        'D': D\n",
    "    }\n",
    "    \n",
    "    return bqm, encoding_info\n",
    "\n",
    "def decode_solution(sample, encoding_info):\n",
    "    \"\"\"Decode binary solution back to original variables\"\"\"\n",
    "    \n",
    "    x_coeffs = encoding_info['x_coefficients']\n",
    "    s_coeffs = encoding_info['s_coefficients']\n",
    "    x_widths = encoding_info['x_widths']\n",
    "    s_widths = encoding_info['s_widths']\n",
    "    var_map = encoding_info['var_map']\n",
    "    n_products = encoding_info['n_products']\n",
    "    n_raw_materials = encoding_info['n_raw_materials']\n",
    "    \n",
    "    # Decode x variables\n",
    "    x_values = np.zeros(n_products)\n",
    "    for i in range(n_products):\n",
    "        for j in range(x_widths[i]):\n",
    "            var_idx = var_map[('x', i, j)]\n",
    "            if sample[var_idx] == 1:\n",
    "                x_values[i] += x_coeffs[i][j]\n",
    "    \n",
    "    # Decode s variables\n",
    "    s_values = np.zeros(n_raw_materials)\n",
    "    for i in range(n_raw_materials):\n",
    "        for j in range(s_widths[i]):\n",
    "            var_idx = var_map[('s', i, j)]\n",
    "            if sample[var_idx] == 1:\n",
    "                s_values[i] += s_coeffs[i][j]\n",
    "    \n",
    "    return x_values, s_values\n",
    "\n",
    "def validate_solution(x_values, s_values, encoding_info):\n",
    "    \"\"\"Validate that solution satisfies constraints\"\"\"\n",
    "    \n",
    "    A = encoding_info['A']\n",
    "    R = encoding_info['R']\n",
    "    D = encoding_info['D']\n",
    "    P = encoding_info['P']\n",
    "    \n",
    "    print(\"Solution Validation:\")\n",
    "    print(f\"Production quantities: {x_values}\")\n",
    "    print(f\"Slack variables: {s_values}\")\n",
    "    \n",
    "    # Check demand constraints\n",
    "    demand_satisfied = all(x_values[i] <= D[i] for i in range(len(D)))\n",
    "    print(f\"Demand constraints satisfied: {demand_satisfied}\")\n",
    "    \n",
    "    # Check raw material constraints\n",
    "    raw_material_usage = A @ x_values\n",
    "    constraint_satisfaction = raw_material_usage + s_values\n",
    "    constraints_satisfied = np.allclose(constraint_satisfaction, R, atol=1e-6)\n",
    "    \n",
    "    print(f\"Raw material usage: {raw_material_usage}\")\n",
    "    print(f\"Raw material limits: {R}\")\n",
    "    print(f\"Constraint A@x + s: {constraint_satisfaction}\")\n",
    "    print(f\"Should equal R: {R}\")\n",
    "    print(f\"Raw material constraints satisfied: {constraints_satisfied}\")\n",
    "    \n",
    "    # Calculate objective value\n",
    "    objective_value = P @ x_values\n",
    "    print(f\"Objective value: {objective_value}\")\n",
    "    \n",
    "    return demand_satisfied and constraints_satisfied\n",
    "\n",
    "# Example usage\n",
    "if __name__ == \"__main__\":\n",
    "    # Problem setup (using your data)\n",
    "    n_products = 3\n",
    "    n_raw_materials = 5  # Note: you mentioned 5 raw materials\n",
    "    \n",
    "    S = np.array([200., 240., 160.])\n",
    "    A = np.array([[7., 3., 8.],\n",
    "                  [2., 9., 4.],\n",
    "                  [5., 1., 6.],\n",
    "                  [8., 7., 2.],\n",
    "                  [3., 5., 9.]])  # 5x3 matrix\n",
    "    R = np.array([300., 360., 240., 270., 450.])  # 5 raw materials\n",
    "    C = np.array([3., 2., 4., 1., 5.])  # 5 raw material costs\n",
    "    D = np.array([30, 30, 30])\n",
    "    \n",
    "    print(\"=== Inventory Management BQM Formulation ===\")\n",
    "    \n",
    "    # Create BQM\n",
    "    bqm, encoding_info = create_inventory_bqm(S, A, R, C, D, penalty_strength=1000)\n",
    "    \n",
    "    print(f\"\\nBQM created with {len(bqm.variables)} variables\")\n",
    "    print(f\"Linear terms: {len(bqm.linear)}\")\n",
    "    print(f\"Quadratic terms: {len(bqm.quadratic)}\")\n",
    "    \n",
    "    # Solve using simulated annealing\n",
    "    print(\"\\n=== Solving with Simulated Annealing ===\")\n",
    "    sampler = SimulatedAnnealingSampler()\n",
    "    sampleset = sampler.sample(bqm, num_reads=100)\n",
    "    \n",
    "    best_sample = sampleset.first.sample\n",
    "    best_energy = sampleset.first.energy\n",
    "    \n",
    "    print(f\"Best energy: {best_energy}\")\n",
    "    \n",
    "    # Decode solution\n",
    "    x_values, s_values = decode_solution(best_sample, encoding_info)\n",
    "    \n",
    "    # Validate solution\n",
    "    is_valid = validate_solution(x_values, s_values, encoding_info)\n",
    "    print(f\"\\nSolution is valid: {is_valid}\")"
   ]
  },
  {
   "cell_type": "code",
   "execution_count": null,
   "id": "cf2462dc",
   "metadata": {},
   "outputs": [],
   "source": []
  },
  {
   "cell_type": "code",
   "execution_count": null,
   "id": "487f472f",
   "metadata": {},
   "outputs": [],
   "source": []
  },
  {
   "cell_type": "code",
   "execution_count": null,
   "id": "cb371d65",
   "metadata": {},
   "outputs": [],
   "source": []
  },
  {
   "cell_type": "code",
   "execution_count": null,
   "id": "da0b6a17",
   "metadata": {},
   "outputs": [],
   "source": []
  },
  {
   "cell_type": "code",
   "execution_count": null,
   "id": "5aa38f39",
   "metadata": {},
   "outputs": [],
   "source": []
  }
 ],
 "metadata": {
  "kernelspec": {
   "display_name": ".venv",
   "language": "python",
   "name": "python3"
  },
  "language_info": {
   "codemirror_mode": {
    "name": "ipython",
    "version": 3
   },
   "file_extension": ".py",
   "mimetype": "text/x-python",
   "name": "python",
   "nbconvert_exporter": "python",
   "pygments_lexer": "ipython3",
   "version": "3.12.7"
  }
 },
 "nbformat": 4,
 "nbformat_minor": 5
}
