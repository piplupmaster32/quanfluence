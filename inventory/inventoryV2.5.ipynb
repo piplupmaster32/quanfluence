{
 "cells": [
  {
   "cell_type": "markdown",
   "id": "8ae5c4a5",
   "metadata": {},
   "source": [
    "### Inventory Management Problem"
   ]
  },
  {
   "cell_type": "code",
   "execution_count": 76,
   "id": "0b77c9d1",
   "metadata": {},
   "outputs": [],
   "source": [
    "import numpy as np\n",
    "import math\n",
    "import dimod\n",
    "from neal import SimulatedAnnealingSampler\n",
    "from inventory import *"
   ]
  },
  {
   "cell_type": "markdown",
   "id": "5e3268ab",
   "metadata": {},
   "source": [
    "### Generating Sample Problem"
   ]
  },
  {
   "cell_type": "code",
   "execution_count": 77,
   "id": "53bb0ab6",
   "metadata": {},
   "outputs": [
    {
     "name": "stdout",
     "output_type": "stream",
     "text": [
      "Generating for 3 products and 7 raw materials.\n"
     ]
    }
   ],
   "source": [
    "#n_products = int(input(\"Number of Products:\"))\n",
    "#n_raw_materials = int(input(\"Number of Raw Materials:\"))\n",
    "\n",
    "n_products = 3\n",
    "n_raw_materials = 7\n",
    "print(f\"Generating for {n_products} products and {n_raw_materials} raw materials.\")"
   ]
  },
  {
   "cell_type": "code",
   "execution_count": 78,
   "id": "caf6862d",
   "metadata": {},
   "outputs": [
    {
     "data": {
      "text/plain": [
       "((3,), (7, 3), (7,), (7,), (3,))"
      ]
     },
     "execution_count": 78,
     "metadata": {},
     "output_type": "execute_result"
    }
   ],
   "source": [
    "S = np.array([200., 240., 160.])\n",
    "A = np.floor(10 * (np.random.random(size=(n_raw_materials, n_products)))) + 1\n",
    "R = np.array([300., 360., 240., 270., 450., 600., 540.])  \n",
    "C = np.floor(5 * np.random.random(size=n_raw_materials)) + 1  \n",
    "D = np.array([30, 30, 30])\n",
    "\n",
    "S.shape, A.shape, R.shape, C.shape, D.shape"
   ]
  },
  {
   "cell_type": "code",
   "execution_count": 79,
   "id": "5e7cfe7c",
   "metadata": {},
   "outputs": [],
   "source": [
    "P = C @ A - S.T #objective matrix"
   ]
  },
  {
   "cell_type": "markdown",
   "id": "ccef1eae",
   "metadata": {},
   "source": [
    "### Encoding Functions"
   ]
  },
  {
   "cell_type": "code",
   "execution_count": 80,
   "id": "6ceb934b",
   "metadata": {},
   "outputs": [],
   "source": [
    "def bounded_coefficient_encoding(kappa_x, mu_x):\n",
    "    \"\"\"Bounded-Coefficient Encoding Algorithm\"\"\"\n",
    "    #print(f\"  Encoding variable with κ={kappa_x}, μ={mu_x}\")\n",
    "    \n",
    "    if kappa_x < 2**(math.floor(math.log2(mu_x)) + 1):\n",
    "        print(f\"    Using binary encoding\")\n",
    "        log_kappa = math.floor(math.log2(kappa_x))\n",
    "        binary_coeffs = [2**i for i in range(log_kappa + 1)]\n",
    "        \n",
    "        if sum(binary_coeffs[:-1]) < kappa_x:\n",
    "            binary_coeffs[-1] = kappa_x - sum(binary_coeffs[:-1])\n",
    "        \n",
    "        print(f\"    Coefficients: {binary_coeffs}\")\n",
    "        return binary_coeffs\n",
    "    else:\n",
    "        #print(f\"    Using bounded-coefficient encoding\")\n",
    "        rho = math.floor(math.log2(mu_x)) + 1\n",
    "        nu = kappa_x - sum(2**(i-1) for i in range(1, rho + 1))\n",
    "        eta = math.floor(nu / mu_x)\n",
    "        \n",
    "        c_x = []\n",
    "        for i in range(1, rho + 1):\n",
    "            c_x.append(2**(i-1))\n",
    "        for i in range(eta):\n",
    "            c_x.append(mu_x)\n",
    "        \n",
    "        remainder = nu - eta * mu_x\n",
    "        if remainder != 0:\n",
    "            c_x.append(remainder)\n",
    "        \n",
    "        #print(f\"    Coefficients: {c_x}\")\n",
    "        return c_x\n",
    "\n",
    "def create_bounded_encoding_system(kappa_vec, mu_vec):\n",
    "    \"\"\"Create complete encoding system\"\"\"\n",
    "    \n",
    "    all_coefficients = []\n",
    "    widths = []\n",
    "    \n",
    "    for i in range(len(kappa_vec)):\n",
    "        coeffs = bounded_coefficient_encoding(kappa_vec[i], mu_vec[i])\n",
    "        all_coefficients.append(coeffs)\n",
    "        widths.append(len(coeffs))\n",
    "    \n",
    "    total_binary_vars = sum(widths)\n",
    "    print(f\"Total binary variables: {total_binary_vars}\")\n",
    "    \n",
    "    return all_coefficients, widths, total_binary_vars\n",
    "\n",
    "def create_bounded_encoding_matrix(n_variables, all_coefficients, widths):\n",
    "    \"\"\"Create encoding matrix C where x = C @ y\"\"\"\n",
    "    total_binary_vars = sum(widths)\n",
    "    C = np.zeros((n_variables, total_binary_vars))\n",
    "    \n",
    "    start_idx = 0\n",
    "    for i in range(n_variables):\n",
    "        end_idx = start_idx + widths[i]\n",
    "        C[i, start_idx:end_idx] = all_coefficients[i]\n",
    "        start_idx = end_idx\n",
    "    \n",
    "    return C"
   ]
  },
  {
   "cell_type": "code",
   "execution_count": 81,
   "id": "ea6f7f0d",
   "metadata": {},
   "outputs": [
    {
     "name": "stdout",
     "output_type": "stream",
     "text": [
      "Total binary variables: 27\n"
     ]
    }
   ],
   "source": [
    "kappa_vec = D.astype(int)\n",
    "mu_vec = [4, 4, 4]\n",
    "all_coefficients, widths, total_binary_vars = create_bounded_encoding_system(kappa_vec, mu_vec)\n",
    "C_enc = create_bounded_encoding_matrix(n_products, all_coefficients, widths)"
   ]
  },
  {
   "cell_type": "markdown",
   "id": "deba995a",
   "metadata": {},
   "source": [
    "### QUBO Formulation"
   ]
  },
  {
   "cell_type": "code",
   "execution_count": null,
   "id": "dee2728a",
   "metadata": {},
   "outputs": [],
   "source": [
    "penalty_lambda = 1000"
   ]
  },
  {
   "cell_type": "code",
   "execution_count": 83,
   "id": "76dc0435",
   "metadata": {},
   "outputs": [],
   "source": [
    "variable_names = []\n",
    "for i in range(n_products):\n",
    "    for j in range(widths[i]):\n",
    "        variable_names.append(f\"x{i+1}_bin{j+1}\")"
   ]
  },
  {
   "cell_type": "code",
   "execution_count": 84,
   "id": "cfe5e92b",
   "metadata": {},
   "outputs": [
    {
     "data": {
      "text/plain": [
       "(27,)"
      ]
     },
     "execution_count": 84,
     "metadata": {},
     "output_type": "execute_result"
    }
   ],
   "source": [
    "q_linear = P.T @ C_enc\n",
    "q_linear.shape"
   ]
  },
  {
   "cell_type": "code",
   "execution_count": 85,
   "id": "a98a7080",
   "metadata": {},
   "outputs": [],
   "source": [
    "Q = np.zeros((total_binary_vars, total_binary_vars))\n",
    "q_penalty = np.zeros(total_binary_vars)"
   ]
  },
  {
   "cell_type": "code",
   "execution_count": 86,
   "id": "6efde703",
   "metadata": {},
   "outputs": [],
   "source": [
    "for j in range(n_raw_materials):\n",
    "    A_j = A[j, :].reshape(1, -1)\n",
    "    Q_j = C_enc.T @ A_j.T @ A_j @ C_enc\n",
    "    Q += penalty_lambda * Q_j\n",
    "\n",
    "    q_penalty_j = -2 * penalty_lambda * R[j] * (A_j @ C_enc).flatten()\n",
    "    q_penalty += q_penalty_j"
   ]
  },
  {
   "cell_type": "code",
   "execution_count": 87,
   "id": "56424f23",
   "metadata": {},
   "outputs": [],
   "source": [
    "q = q_linear + q_penalty"
   ]
  },
  {
   "cell_type": "code",
   "execution_count": 88,
   "id": "d66cd60c",
   "metadata": {},
   "outputs": [
    {
     "data": {
      "text/plain": [
       "((27, 27), (27,))"
      ]
     },
     "execution_count": 88,
     "metadata": {},
     "output_type": "execute_result"
    }
   ],
   "source": [
    "Q.shape, q.shape"
   ]
  },
  {
   "cell_type": "markdown",
   "id": "cb7c6b58",
   "metadata": {},
   "source": [
    "### BQM Formulation"
   ]
  },
  {
   "cell_type": "code",
   "execution_count": 89,
   "id": "347a8c32",
   "metadata": {},
   "outputs": [],
   "source": [
    "bqm = dimod.BinaryQuadraticModel.empty('BINARY')"
   ]
  },
  {
   "cell_type": "code",
   "execution_count": 90,
   "id": "b738aa2f",
   "metadata": {},
   "outputs": [],
   "source": [
    "for i, var_name in enumerate(variable_names):\n",
    "    bqm.add_variable(var_name, q[i])\n",
    "\n",
    "for i in range(len(variable_names)):\n",
    "    for j in range(i+1, len(variable_names)):\n",
    "        if abs(Q[i, j]) > 1e-10:\n",
    "            bqm.add_interaction(variable_names[i], variable_names[j], Q[i,j])"
   ]
  },
  {
   "cell_type": "code",
   "execution_count": 91,
   "id": "2b6c2f12",
   "metadata": {},
   "outputs": [],
   "source": [
    "sampler = SimulatedAnnealingSampler()\n",
    "sampleset = sampler.sample(bqm, num_reads=1000)"
   ]
  },
  {
   "cell_type": "code",
   "execution_count": 92,
   "id": "17a198a2",
   "metadata": {},
   "outputs": [],
   "source": [
    "def decode_solution(solution, C_enc, variable_names, all_coefficients, widths):\n",
    "    \"\"\"Decode binary solution back to original variables\"\"\"\n",
    "    \n",
    "    y = np.array([solution[var_name] for var_name in variable_names])\n",
    "    x = C_enc @ y\n",
    "    \n",
    "    print(f\"Binary solution: {y}\")\n",
    "    print(f\"Decoded solution x: {x}\")\n",
    "    \n",
    "    return x, y"
   ]
  },
  {
   "cell_type": "code",
   "execution_count": 93,
   "id": "8e7af07c",
   "metadata": {},
   "outputs": [
    {
     "name": "stdout",
     "output_type": "stream",
     "text": [
      "Binary solution: [1 1 1 1 1 1 1 1 1 1 1 1 1 1 1 1 1 1 1 1 1 1 1 1 1 1 1]\n",
      "Decoded solution x: [30. 30. 30.]\n"
     ]
    }
   ],
   "source": [
    "x_optimal, y_optimal = decode_solution(\n",
    "    sampleset.first.sample, C_enc, variable_names, all_coefficients, widths\n",
    ")"
   ]
  },
  {
   "cell_type": "code",
   "execution_count": null,
   "id": "58acda12",
   "metadata": {},
   "outputs": [],
   "source": []
  },
  {
   "cell_type": "code",
   "execution_count": null,
   "id": "cf2462dc",
   "metadata": {},
   "outputs": [],
   "source": []
  },
  {
   "cell_type": "code",
   "execution_count": null,
   "id": "487f472f",
   "metadata": {},
   "outputs": [],
   "source": []
  },
  {
   "cell_type": "code",
   "execution_count": null,
   "id": "cb371d65",
   "metadata": {},
   "outputs": [],
   "source": []
  },
  {
   "cell_type": "code",
   "execution_count": null,
   "id": "da0b6a17",
   "metadata": {},
   "outputs": [],
   "source": []
  },
  {
   "cell_type": "code",
   "execution_count": null,
   "id": "5aa38f39",
   "metadata": {},
   "outputs": [],
   "source": []
  }
 ],
 "metadata": {
  "kernelspec": {
   "display_name": ".venv",
   "language": "python",
   "name": "python3"
  },
  "language_info": {
   "codemirror_mode": {
    "name": "ipython",
    "version": 3
   },
   "file_extension": ".py",
   "mimetype": "text/x-python",
   "name": "python",
   "nbconvert_exporter": "python",
   "pygments_lexer": "ipython3",
   "version": "3.12.7"
  }
 },
 "nbformat": 4,
 "nbformat_minor": 5
}
