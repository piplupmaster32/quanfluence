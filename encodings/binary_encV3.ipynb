{
 "cells": [
  {
   "cell_type": "code",
   "execution_count": 2,
   "id": "ec6c9341",
   "metadata": {},
   "outputs": [],
   "source": [
    "import numpy as np\n",
    "import scipy.linalg as la\n",
    "import math\n",
    "import dimod\n",
    "from dimod import SimulatedAnnealingSampler"
   ]
  },
  {
   "cell_type": "code",
   "execution_count": 3,
   "id": "d46beecf",
   "metadata": {},
   "outputs": [],
   "source": [
    "def generate_quip(n=5, kappa=50, sparsity=0.5, seed=42):\n",
    "    \"\"\"Generate a convex QUIP instance with known optimal solution\"\"\"\n",
    "    np.random.seed(seed)\n",
    "    U2 = np.array([-2, -1, 0, 1, 2])\n",
    "    Q_initial = np.random.choice(U2, size=(n, n))\n",
    "    Q_initial = (Q_initial + Q_initial.T) / 2\n",
    "    sparsity_mask = np.random.random((n, n)) < sparsity\n",
    "    Q_initial = Q_initial * sparsity_mask\n",
    "    \n",
    "    for i in range(n):\n",
    "        if Q_initial[i, i] == 0:\n",
    "            Q_initial[i, i] = np.random.choice([1, 2])\n",
    "    \n",
    "    eigenvalues = la.eigvals(Q_initial)\n",
    "    lambda_min = np.min(eigenvalues)\n",
    "    lambda_add = np.ceil((abs(min(lambda_min, 0))) + np.random.random())\n",
    "    Q = Q_initial + lambda_add * np.eye(n)\n",
    "    \n",
    "    eigenvalues_final = la.eigvals(Q)\n",
    "    x_star = np.zeros(n, dtype=int)\n",
    "    num_nonzero = np.random.randint(1, n)\n",
    "    nonzero_indices = np.random.choice(n, size=num_nonzero, replace=False)\n",
    "    for i in nonzero_indices:\n",
    "        x_star[i] = np.random.randint(1, kappa + 1)\n",
    "    \n",
    "    q = -2 * Q @ x_star\n",
    "    kappa_vec = np.full(n, kappa, dtype=int)\n",
    "    \n",
    "    objective_at_x_star = x_star.T @ Q @ x_star + q.T @ x_star\n",
    "    gradient_at_x_star = 2 * Q @ x_star + q\n",
    "    \n",
    "    print(f\"Gradient at x* (should be ~0): {gradient_at_x_star}\")\n",
    "    return Q, q, kappa_vec, x_star"
   ]
  },
  {
   "cell_type": "code",
   "execution_count": 4,
   "id": "0a24fac1",
   "metadata": {},
   "outputs": [],
   "source": [
    "def create_binary_encoder(kappa):\n",
    "    \"\"\"Create binary encoding parameters for given upper bound\"\"\"\n",
    "    width = math.floor(math.log2(kappa)) + 1\n",
    "    coefficients = [2**i for i in range(width)]\n",
    "    return width, coefficients"
   ]
  },
  {
   "cell_type": "code",
   "execution_count": 5,
   "id": "e2657cf0",
   "metadata": {},
   "outputs": [],
   "source": [
    "def encode_integer(value, width, coefficients):\n",
    "    \"\"\"Encode single integer to binary using coefficients\"\"\"\n",
    "    binary = []\n",
    "    remaining = value\n",
    "    for coeff in reversed(coefficients):\n",
    "        if remaining >= coeff:\n",
    "            binary.append(1)\n",
    "            remaining -= coeff\n",
    "        else:\n",
    "            binary.append(0)\n",
    "    binary.reverse()\n",
    "    return binary"
   ]
  },
  {
   "cell_type": "code",
   "execution_count": 6,
   "id": "2245056c",
   "metadata": {},
   "outputs": [],
   "source": [
    "def decode_binary(binary, coefficients):\n",
    "    \"\"\"Decode binary representation back to integer\"\"\"\n",
    "    return sum(bit * coeff for bit, coeff in zip(binary, coefficients))"
   ]
  },
  {
   "cell_type": "code",
   "execution_count": 7,
   "id": "1acab0bb",
   "metadata": {},
   "outputs": [],
   "source": [
    "def encode_vector(integer_vector, kappa):\n",
    "    \"\"\"Encode full integer vector to binary\"\"\"\n",
    "    width, coefficients = create_binary_encoder(kappa)\n",
    "    \n",
    "    binary_vector = []\n",
    "    for val in integer_vector:\n",
    "        if val < 0 or val > kappa:\n",
    "            raise ValueError(f\"Value {val} outside bounds [0, {kappa}]\")\n",
    "        binary_repr = encode_integer(val, width, coefficients)\n",
    "        binary_vector.extend(binary_repr)\n",
    "    \n",
    "    return binary_vector, width, coefficients"
   ]
  },
  {
   "cell_type": "code",
   "execution_count": 8,
   "id": "80fb1f5a",
   "metadata": {},
   "outputs": [],
   "source": [
    "def decode_vector(binary_vector, n_variables, width, coefficients):\n",
    "    \"\"\"Decode binary vector back to integers\"\"\"\n",
    "    integer_vector = []\n",
    "    \n",
    "    for i in range(n_variables):\n",
    "        start = i * width\n",
    "        end = start + width\n",
    "        var_binary = binary_vector[start:end]\n",
    "        integer_val = decode_binary(var_binary, coefficients)\n",
    "        integer_vector.append(integer_val)\n",
    "    \n",
    "    return integer_vector"
   ]
  },
  {
   "cell_type": "code",
   "execution_count": 9,
   "id": "ac56359b",
   "metadata": {},
   "outputs": [],
   "source": [
    "def create_encoding_matrix(n_variables, width, coefficients):\n",
    "    \"\"\"Create encoding matrix C where x = C @ y\"\"\"\n",
    "    total_binary_vars = width * n_variables\n",
    "    C = np.zeros((n_variables, total_binary_vars))\n",
    "    \n",
    "    for i in range(n_variables):\n",
    "        start = i * width\n",
    "        end = start + width\n",
    "        C[i, start:end] = coefficients\n",
    "    \n",
    "    return C"
   ]
  },
  {
   "cell_type": "code",
   "execution_count": 10,
   "id": "5f178148",
   "metadata": {},
   "outputs": [],
   "source": [
    "def convert_to_qubo(Q_binary, q_binary):\n",
    "    \"\"\"\n",
    "    Convert quadratic problem min y^T Q_binary y + q_binary^T y to QUBO format\n",
    "    QUBO format: min y^T Q_qubo y where linear terms are on the diagonal\n",
    "    \"\"\"\n",
    "    n = Q_binary.shape[0]\n",
    "    Q_qubo = Q_binary.copy()\n",
    "    \n",
    "    # Add linear terms to diagonal\n",
    "    for i in range(n):\n",
    "        Q_qubo[i, i] += q_binary[i]\n",
    "    \n",
    "    return Q_qubo"
   ]
  },
  {
   "cell_type": "code",
   "execution_count": 11,
   "id": "5870d980",
   "metadata": {},
   "outputs": [
    {
     "name": "stdout",
     "output_type": "stream",
     "text": [
      "Gradient at x* (should be ~0): [0. 0. 0.]\n",
      "Known optimal solution: [ 0 10  0]\n",
      "Optimal objective value: -300.0000\n"
     ]
    }
   ],
   "source": [
    "Q, q, kappa_vec, x_star = generate_quip(n = 3, kappa = 25)\n",
    "print(f\"Known optimal solution: {x_star}\")\n",
    "print(f\"Optimal objective value: {(x_star.T @ Q @ x_star + q.T @ x_star):.4f}\")"
   ]
  },
  {
   "cell_type": "code",
   "execution_count": 12,
   "id": "468712d8",
   "metadata": {},
   "outputs": [
    {
     "data": {
      "text/plain": [
       "[1, 2, 4, 8, 16]"
      ]
     },
     "execution_count": 12,
     "metadata": {},
     "output_type": "execute_result"
    }
   ],
   "source": [
    "width, coefficients = create_binary_encoder(kappa = 25)\n",
    "coefficients"
   ]
  },
  {
   "cell_type": "code",
   "execution_count": 13,
   "id": "911564c1",
   "metadata": {},
   "outputs": [
    {
     "data": {
      "text/plain": [
       "(3, 15)"
      ]
     },
     "execution_count": 13,
     "metadata": {},
     "output_type": "execute_result"
    }
   ],
   "source": [
    "C = create_encoding_matrix(3, width, coefficients)\n",
    "C.shape"
   ]
  },
  {
   "cell_type": "code",
   "execution_count": 14,
   "id": "301f9510",
   "metadata": {},
   "outputs": [
    {
     "data": {
      "text/plain": [
       "((15, 15), (15,))"
      ]
     },
     "execution_count": 14,
     "metadata": {},
     "output_type": "execute_result"
    }
   ],
   "source": [
    "Q_binary = C.T @ Q @ C\n",
    "q_binary = C.T @ q\n",
    "\n",
    "Q_binary.shape, q_binary.shape"
   ]
  },
  {
   "cell_type": "code",
   "execution_count": 15,
   "id": "d567e240",
   "metadata": {},
   "outputs": [
    {
     "data": {
      "text/plain": [
       "(15, 15)"
      ]
     },
     "execution_count": 15,
     "metadata": {},
     "output_type": "execute_result"
    }
   ],
   "source": [
    "Q_qubo = convert_to_qubo(Q_binary, q_binary)\n",
    "Q_qubo.shape"
   ]
  },
  {
   "cell_type": "code",
   "execution_count": 16,
   "id": "08268871",
   "metadata": {},
   "outputs": [],
   "source": [
    "bqm = dimod.BQM.from_qubo(Q_qubo)"
   ]
  },
  {
   "cell_type": "code",
   "execution_count": 17,
   "id": "5b72d06d",
   "metadata": {},
   "outputs": [],
   "source": [
    "sampler = SimulatedAnnealingSampler()\n",
    "sampleset = sampler.sample(bqm, num_reads = 100)"
   ]
  },
  {
   "cell_type": "code",
   "execution_count": 18,
   "id": "c28fda7e",
   "metadata": {},
   "outputs": [],
   "source": [
    "best_sample = sampleset.first\n",
    "best_energy = best_sample.energy"
   ]
  },
  {
   "cell_type": "code",
   "execution_count": 19,
   "id": "13bc009f",
   "metadata": {},
   "outputs": [
    {
     "data": {
      "text/plain": [
       "[np.int8(0),\n",
       " np.int8(0),\n",
       " np.int8(0),\n",
       " np.int8(0),\n",
       " np.int8(0),\n",
       " np.int8(0),\n",
       " np.int8(1),\n",
       " np.int8(0),\n",
       " np.int8(1),\n",
       " np.int8(0),\n",
       " np.int8(0),\n",
       " np.int8(0),\n",
       " np.int8(0),\n",
       " np.int8(0),\n",
       " np.int8(0)]"
      ]
     },
     "execution_count": 19,
     "metadata": {},
     "output_type": "execute_result"
    }
   ],
   "source": [
    "n_binary_vars = width * 3\n",
    "binary_solution = [0] * n_binary_vars\n",
    "for var_idx, value in best_sample.sample.items():\n",
    "    binary_solution[var_idx] = value\n",
    "\n",
    "binary_solution"
   ]
  },
  {
   "cell_type": "code",
   "execution_count": 20,
   "id": "ecb919a5",
   "metadata": {},
   "outputs": [
    {
     "data": {
      "text/plain": [
       "array([ 0, 10,  0], dtype=int8)"
      ]
     },
     "execution_count": 20,
     "metadata": {},
     "output_type": "execute_result"
    }
   ],
   "source": [
    "integer_solution = np.array(decode_vector(binary_solution, 3, width, coefficients))\n",
    "original_objective = integer_solution.T @ Q @ integer_solution + q.T @ integer_solution\n",
    "\n",
    "integer_solution"
   ]
  },
  {
   "cell_type": "code",
   "execution_count": 21,
   "id": "8d561e2e",
   "metadata": {},
   "outputs": [
    {
     "data": {
      "text/plain": [
       "array([[ 1.,  2.,  4.,  8., 16.,  0.,  0.,  0.,  0.,  0.,  0.,  0.,  0.,\n",
       "         0.,  0.],\n",
       "       [ 0.,  0.,  0.,  0.,  0.,  1.,  2.,  4.,  8., 16.,  0.,  0.,  0.,\n",
       "         0.,  0.],\n",
       "       [ 0.,  0.,  0.,  0.,  0.,  0.,  0.,  0.,  0.,  0.,  1.,  2.,  4.,\n",
       "         8., 16.]])"
      ]
     },
     "execution_count": 21,
     "metadata": {},
     "output_type": "execute_result"
    }
   ],
   "source": [
    "C"
   ]
  }
 ],
 "metadata": {
  "kernelspec": {
   "display_name": ".venv",
   "language": "python",
   "name": "python3"
  },
  "language_info": {
   "codemirror_mode": {
    "name": "ipython",
    "version": 3
   },
   "file_extension": ".py",
   "mimetype": "text/x-python",
   "name": "python",
   "nbconvert_exporter": "python",
   "pygments_lexer": "ipython3",
   "version": "3.12.7"
  }
 },
 "nbformat": 4,
 "nbformat_minor": 5
}
