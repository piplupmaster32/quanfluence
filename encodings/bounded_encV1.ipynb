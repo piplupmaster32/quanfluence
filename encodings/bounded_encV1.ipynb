{
 "cells": [
  {
   "cell_type": "code",
   "execution_count": 1,
   "id": "aa78af90",
   "metadata": {},
   "outputs": [],
   "source": [
    "import numpy as np\n",
    "import scipy.linalg as la\n",
    "import math\n",
    "import dimod\n",
    "from dimod import SimulatedAnnealingSampler"
   ]
  },
  {
   "cell_type": "code",
   "execution_count": 2,
   "id": "c50bc068",
   "metadata": {},
   "outputs": [],
   "source": [
    "def generate_quip(n=5, kappa=50, sparsity=0.5, seed=42):\n",
    "    \"\"\"Generate a convex QUIP instance with known optimal solution\"\"\"\n",
    "    np.random.seed(seed)\n",
    "    U2 = np.array([-2, -1, 0, 1, 2])\n",
    "    Q_initial = np.random.choice(U2, size=(n, n))\n",
    "    Q_initial = (Q_initial + Q_initial.T) / 2\n",
    "    sparsity_mask = np.random.random((n, n)) < sparsity\n",
    "    Q_initial = Q_initial * sparsity_mask\n",
    "    \n",
    "    for i in range(n):\n",
    "        if Q_initial[i, i] == 0:\n",
    "            Q_initial[i, i] = np.random.choice([1, 2])\n",
    "    \n",
    "    eigenvalues = la.eigvals(Q_initial)\n",
    "    lambda_min = np.min(eigenvalues)\n",
    "    lambda_add = np.ceil((abs(min(lambda_min, 0))) + np.random.random())\n",
    "    Q = Q_initial + lambda_add * np.eye(n)\n",
    "    \n",
    "    x_star = np.zeros(n, dtype=int)\n",
    "    num_nonzero = np.random.randint(1, n)\n",
    "    nonzero_indices = np.random.choice(n, size=num_nonzero, replace=False)\n",
    "    for i in nonzero_indices:\n",
    "        x_star[i] = np.random.randint(1, kappa + 1)\n",
    "    \n",
    "    q = -2 * Q @ x_star\n",
    "    kappa_vec = np.full(n, kappa, dtype=int)\n",
    "    \n",
    "    gradient_at_x_star = 2 * Q @ x_star + q\n",
    "    print(f\"Gradient at x* (should be ~0): {gradient_at_x_star}\")\n",
    "    return Q, q, kappa_vec, x_star"
   ]
  },
  {
   "cell_type": "code",
   "execution_count": 3,
   "id": "1283b833",
   "metadata": {},
   "outputs": [],
   "source": [
    "def find_coefficient_upper_bounds(Q, q, kappa_vec, ell=0.01, c=0.01):\n",
    "    \"\"\"\n",
    "    Algorithm 2: Finding the Upper Bounds on the Coefficients of the Encoding\n",
    "    Based on precision requirements and resilience conditions.\n",
    "    \"\"\"\n",
    "    n = len(kappa_vec)\n",
    "    \n",
    "    # Compute Qκ + q (equation before (20))\n",
    "    Qkappa_plus_q = Q @ kappa_vec + q\n",
    "    \n",
    "    # Minimum absolute values for linear and quadratic terms\n",
    "    ml = np.min([abs(val) for val in Qkappa_plus_q if abs(val) > 1e-10])\n",
    "    if ml == 0:\n",
    "        ml = 1e-6  # Avoid division by zero\n",
    "    \n",
    "    mc = np.min([abs(Q[i,i]) for i in range(n)] + \n",
    "                [abs(Q[i,j]) for i in range(n) for j in range(i+1,n) if abs(Q[i,j]) > 1e-10])\n",
    "    if mc == 0:\n",
    "        mc = 1e-6\n",
    "    \n",
    "    print(f\"ml (min linear coeff magnitude): {ml:.6f}\")\n",
    "    print(f\"mc (min quadratic coeff magnitude): {mc:.6f}\")\n",
    "    \n",
    "    # Initialize μ_xi using inequalities (22) and (23)\n",
    "    mu_x = np.zeros(n)\n",
    "    for i in range(n):\n",
    "        # From equation (22): μ_xi ≤ ml / (|[Qκ + q]_i| * ell)\n",
    "        linear_bound = ml / (abs(Qkappa_plus_q[i]) * ell) if abs(Qkappa_plus_q[i]) > 1e-10 else np.inf\n",
    "        \n",
    "        # From equation (23): μ_xi ≤ sqrt(mc / (|Qii| * c))\n",
    "        quadratic_bound = np.sqrt(mc / (abs(Q[i,i]) * c)) if abs(Q[i,i]) > 1e-10 else np.inf\n",
    "        \n",
    "        mu_x[i] = min(linear_bound, quadratic_bound)\n",
    "        \n",
    "    print(f\"Initial μ bounds: {mu_x}\")\n",
    "    \n",
    "    # Iteratively decrease μ_xi to satisfy inequality (24): μ_xi * μ_xj ≤ mc / (|Qij| * c)\n",
    "    max_iterations = 100\n",
    "    for iteration in range(max_iterations):\n",
    "        violated = False\n",
    "        max_violation = 0\n",
    "        violating_pair = (-1, -1)\n",
    "        \n",
    "        # Check all pairs\n",
    "        for i in range(n):\n",
    "            for j in range(i+1, n):\n",
    "                if abs(Q[i,j]) > 1e-10:\n",
    "                    required_product = mc / (abs(Q[i,j]) * c)\n",
    "                    current_product = mu_x[i] * mu_x[j]\n",
    "                    \n",
    "                    if current_product > required_product:\n",
    "                        violation = current_product - required_product\n",
    "                        if violation > max_violation:\n",
    "                            max_violation = violation\n",
    "                            violating_pair = (i, j)\n",
    "                            violated = True\n",
    "        \n",
    "        if not violated:\n",
    "            break\n",
    "            \n",
    "        # Greedily decrease μ_xi or μ_xj for the most violating pair\n",
    "        i, j = violating_pair\n",
    "        \n",
    "        # Choose which one to decrease based on width estimate (κ/μ)\n",
    "        width_i_decrease = kappa_vec[i] / (mu_x[i] - 1) if mu_x[i] > 1 else np.inf\n",
    "        width_j_decrease = kappa_vec[j] / (mu_x[j] - 1) if mu_x[j] > 1 else np.inf\n",
    "        combined_width_i = width_i_decrease + kappa_vec[j] / mu_x[j]\n",
    "        combined_width_j = kappa_vec[i] / mu_x[i] + width_j_decrease\n",
    "        \n",
    "        if combined_width_i < combined_width_j and mu_x[i] > 1:\n",
    "            mu_x[i] = max(1, mu_x[i] - 1)\n",
    "        elif mu_x[j] > 1:\n",
    "            mu_x[j] = max(1, mu_x[j] - 1)\n",
    "        else:\n",
    "            # Both are at minimum, break to avoid infinite loop\n",
    "            break\n",
    "    \n",
    "    # Ensure all μ_xi are at least 1 and integers\n",
    "    mu_x = np.maximum(1, np.floor(mu_x)).astype(int)\n",
    "    \n",
    "    print(f\"Final μ bounds after constraint satisfaction: {mu_x}\")\n",
    "    return mu_x"
   ]
  },
  {
   "cell_type": "code",
   "execution_count": null,
   "id": "1988bdb4",
   "metadata": {},
   "outputs": [],
   "source": [
    "def bounded_coefficient_encoding(kappa_x, mu_x):\n",
    "    \n",
    "    \"\"\"\n",
    "    Algorithm 1: Bounded-Coefficient Encoding\n",
    "    \n",
    "    Args:\n",
    "        kappa_x: upper bound on the integer variable x\n",
    "        mu_x: upper bound on the coefficients of the encoding\n",
    "    \n",
    "    Returns:\n",
    "        c_x: integer encoding coefficients\n",
    "    \"\"\"\n",
    "    print(f\"  Encoding variable with κ={kappa_x}, μ={mu_x}\")\n",
    "    \n",
    "    # Check if we should use binary encoding (equation 5)\n",
    "    if kappa_x < 2**(math.floor(math.log2(mu_x)) + 1):\n",
    "        print(f\"    Using binary encoding (κ < 2^⌊log(μ)⌋+1)\")\n",
    "        # Binary encoding with adjustment for κ\n",
    "        log_kappa = math.floor(math.log2(kappa_x))\n",
    "        binary_coeffs = [2**i for i in range(log_kappa + 1)]\n",
    "        \n",
    "        # Adjust last coefficient to exactly reach κ\n",
    "        if sum(binary_coeffs[:-1]) < kappa_x:\n",
    "            binary_coeffs[-1] = kappa_x - sum(binary_coeffs[:-1])\n",
    "        \n",
    "        return binary_coeffs\n",
    "    \n",
    "    else:\n",
    "        print(f\"    Using bounded-coefficient encoding\")\n",
    "        # Bounded-coefficient encoding (equation 6)\n",
    "        rho = math.floor(math.log2(mu_x)) + 1\n",
    "        nu = kappa_x - sum(2**(i-1) for i in range(1, rho + 1))\n",
    "        eta = math.floor(nu / mu_x)\n",
    "        \n",
    "        print(f\"    ρ={rho}, ν={nu}, η={eta}\")\n",
    "        \n",
    "        # Build coefficient vector\n",
    "        c_x = []\n",
    "        \n",
    "        # First ρ coefficients: 2^(i-1) for i = 1, ..., ρ\n",
    "        for i in range(1, rho + 1):\n",
    "            c_x.append(2**(i-1))\n",
    "        \n",
    "        # Next η coefficients: μ_x\n",
    "        for i in range(eta):\n",
    "            c_x.append(mu_x)\n",
    "        \n",
    "        # Last coefficient if needed: ν - η*μ_x\n",
    "        remainder = nu - eta * mu_x\n",
    "        if remainder != 0:\n",
    "            c_x.append(remainder)\n",
    "        \n",
    "        print(f\"    Coefficients: {c_x}\")\n",
    "        return c_x"
   ]
  },
  {
   "cell_type": "code",
   "execution_count": null,
   "id": "98e1ac01",
   "metadata": {},
   "outputs": [],
   "source": [
    "def encode_integer_bounded(value, coefficients):\n",
    "    \n",
    "    \"\"\"Encode single integer using bounded coefficient encoding (greedy algorithm)\"\"\"\n",
    "    binary = []\n",
    "    remaining = value\n",
    "    \n",
    "    # Go through coefficients from largest to smallest (greedy)\n",
    "    for coeff in reversed(coefficients):\n",
    "        if remaining >= coeff:\n",
    "            binary.append(1)\n",
    "            remaining -= coeff\n",
    "        else:\n",
    "            binary.append(0)\n",
    "    \n",
    "    # Reverse to match coefficient order\n",
    "    binary.reverse()\n",
    "    return binary"
   ]
  },
  {
   "cell_type": "code",
   "execution_count": 6,
   "id": "136d4746",
   "metadata": {},
   "outputs": [],
   "source": [
    "def decode_integer_bounded(binary, coefficients):\n",
    "    \"\"\"Decode binary representation back to integer using bounded coefficients\"\"\"\n",
    "    return sum(bit * coeff for bit, coeff in zip(binary, coefficients))"
   ]
  },
  {
   "cell_type": "code",
   "execution_count": 7,
   "id": "12b87e33",
   "metadata": {},
   "outputs": [],
   "source": [
    "def create_bounded_encoding_system(kappa_vec, mu_vec):\n",
    "    \"\"\"Create the complete bounded coefficient encoding system for all variables\"\"\"\n",
    "    n_variables = len(kappa_vec)\n",
    "    \n",
    "    print(f\"\\n=== CREATING BOUNDED COEFFICIENT ENCODING SYSTEM ===\")\n",
    "    \n",
    "    # Get coefficients for each variable\n",
    "    all_coefficients = []\n",
    "    widths = []\n",
    "    \n",
    "    for i in range(n_variables):\n",
    "        coeffs = bounded_coefficient_encoding(kappa_vec[i], mu_vec[i])\n",
    "        all_coefficients.append(coeffs)\n",
    "        widths.append(len(coeffs))\n",
    "        print(f\"Variable x[{i}]: κ={kappa_vec[i]}, μ={mu_vec[i]}, width={len(coeffs)}, coeffs={coeffs}\")\n",
    "    \n",
    "    total_binary_vars = sum(widths)\n",
    "    print(f\"Total binary variables: {total_binary_vars}\")\n",
    "    \n",
    "    return all_coefficients, widths, total_binary_vars"
   ]
  },
  {
   "cell_type": "code",
   "execution_count": 8,
   "id": "814ea5c0",
   "metadata": {},
   "outputs": [],
   "source": [
    "def encode_vector_bounded(integer_vector, kappa_vec, mu_vec):\n",
    "    \"\"\"Encode integer vector using bounded coefficient encoding\"\"\"\n",
    "    all_coefficients, widths, total_binary_vars = create_bounded_encoding_system(kappa_vec, mu_vec)\n",
    "    \n",
    "    binary_vector = []\n",
    "    for i, val in enumerate(integer_vector):\n",
    "        if val < 0 or val > kappa_vec[i]:\n",
    "            raise ValueError(f\"Value {val} outside bounds [0, {kappa_vec[i]}]\")\n",
    "        \n",
    "        binary_repr = encode_integer_bounded(val, all_coefficients[i])\n",
    "        binary_vector.extend(binary_repr)\n",
    "    \n",
    "    return binary_vector, all_coefficients, widths"
   ]
  },
  {
   "cell_type": "code",
   "execution_count": 9,
   "id": "cb75a601",
   "metadata": {},
   "outputs": [],
   "source": [
    "def decode_vector_bounded(binary_vector, all_coefficients, widths):\n",
    "    \"\"\"Decode binary vector back to integers using bounded coefficient encoding\"\"\"\n",
    "    integer_vector = []\n",
    "    start_idx = 0\n",
    "    \n",
    "    for i, width in enumerate(widths):\n",
    "        end_idx = start_idx + width\n",
    "        var_binary = binary_vector[start_idx:end_idx]\n",
    "        integer_val = decode_integer_bounded(var_binary, all_coefficients[i])\n",
    "        integer_vector.append(integer_val)\n",
    "        start_idx = end_idx\n",
    "    \n",
    "    return integer_vector"
   ]
  },
  {
   "cell_type": "code",
   "execution_count": 10,
   "id": "6b71c3f7",
   "metadata": {},
   "outputs": [],
   "source": [
    "def create_bounded_encoding_matrix(n_variables, all_coefficients, widths):\n",
    "    \"\"\"Create encoding matrix C for bounded coefficient encoding where x = C @ y\"\"\"\n",
    "    total_binary_vars = sum(widths)\n",
    "    C = np.zeros((n_variables, total_binary_vars))\n",
    "    \n",
    "    start_idx = 0\n",
    "    for i in range(n_variables):\n",
    "        end_idx = start_idx + widths[i]\n",
    "        C[i, start_idx:end_idx] = all_coefficients[i]\n",
    "        start_idx = end_idx\n",
    "    \n",
    "    return C"
   ]
  },
  {
   "cell_type": "code",
   "execution_count": 11,
   "id": "3f3c160d",
   "metadata": {},
   "outputs": [],
   "source": [
    "def convert_to_qubo(Q_binary, q_binary):\n",
    "    \"\"\"Convert quadratic problem to QUBO format\"\"\"\n",
    "    n = Q_binary.shape[0]\n",
    "    Q_qubo = Q_binary.copy()\n",
    "    \n",
    "    # Add linear terms to diagonal\n",
    "    for i in range(n):\n",
    "        Q_qubo[i, i] += q_binary[i]\n",
    "    \n",
    "    return Q_qubo"
   ]
  },
  {
   "cell_type": "code",
   "execution_count": 12,
   "id": "78ef4b0a",
   "metadata": {},
   "outputs": [],
   "source": [
    "n = 3\n",
    "kappa = 25\n",
    "ell = 0.01\n",
    "c = 0.01"
   ]
  },
  {
   "cell_type": "code",
   "execution_count": 13,
   "id": "d381eceb",
   "metadata": {},
   "outputs": [
    {
     "name": "stdout",
     "output_type": "stream",
     "text": [
      "Gradient at x* (should be ~0): [0. 0. 0.]\n",
      "Known optimal solution: [ 0 10  0]\n",
      "Optimal objective value: -300.0000\n"
     ]
    }
   ],
   "source": [
    "Q, q, kappa_vec, x_star = generate_quip(n=n, kappa=kappa)\n",
    "optimal_value = x_star.T @ Q @ x_star + q.T @ x_star\n",
    "print(f\"Known optimal solution: {x_star}\")\n",
    "print(f\"Optimal objective value: {optimal_value:.4f}\")"
   ]
  },
  {
   "cell_type": "code",
   "execution_count": 14,
   "id": "8c7a0740",
   "metadata": {},
   "outputs": [
    {
     "name": "stdout",
     "output_type": "stream",
     "text": [
      "Using precision parameters: ℓ=0.01, c=0.01\n",
      "ml (min linear coeff magnitude): 65.000000\n",
      "mc (min quadratic coeff magnitude): 3.000000\n",
      "Initial μ bounds: [10. 10. 10.]\n",
      "Final μ bounds after constraint satisfaction: [10 10 10]\n"
     ]
    }
   ],
   "source": [
    "print(f\"Using precision parameters: ℓ={ell}, c={c}\")\n",
    "mu_vec = find_coefficient_upper_bounds(Q, q, kappa_vec, ell, c)"
   ]
  },
  {
   "cell_type": "code",
   "execution_count": 15,
   "id": "fa34d678",
   "metadata": {},
   "outputs": [
    {
     "name": "stdout",
     "output_type": "stream",
     "text": [
      "\n",
      "=== CREATING BOUNDED COEFFICIENT ENCODING SYSTEM ===\n",
      "  Encoding variable with κ=25, μ=10\n",
      "    Using bounded-coefficient encoding\n",
      "    ρ=4, ν=10, η=1\n",
      "    Coefficients: [1, 2, 4, 8, np.int64(10)]\n",
      "Variable x[0]: κ=25, μ=10, width=5, coeffs=[1, 2, 4, 8, np.int64(10)]\n",
      "  Encoding variable with κ=25, μ=10\n",
      "    Using bounded-coefficient encoding\n",
      "    ρ=4, ν=10, η=1\n",
      "    Coefficients: [1, 2, 4, 8, np.int64(10)]\n",
      "Variable x[1]: κ=25, μ=10, width=5, coeffs=[1, 2, 4, 8, np.int64(10)]\n",
      "  Encoding variable with κ=25, μ=10\n",
      "    Using bounded-coefficient encoding\n",
      "    ρ=4, ν=10, η=1\n",
      "    Coefficients: [1, 2, 4, 8, np.int64(10)]\n",
      "Variable x[2]: κ=25, μ=10, width=5, coeffs=[1, 2, 4, 8, np.int64(10)]\n",
      "Total binary variables: 15\n"
     ]
    }
   ],
   "source": [
    "all_coefficients, widths, total_binary_vars = create_bounded_encoding_system(kappa_vec, mu_vec)"
   ]
  },
  {
   "cell_type": "code",
   "execution_count": 16,
   "id": "1f01e16a",
   "metadata": {},
   "outputs": [
    {
     "data": {
      "text/plain": [
       "(3, 15)"
      ]
     },
     "execution_count": 16,
     "metadata": {},
     "output_type": "execute_result"
    }
   ],
   "source": [
    "C = create_bounded_encoding_matrix(n, all_coefficients, widths)\n",
    "C.shape"
   ]
  },
  {
   "cell_type": "code",
   "execution_count": 17,
   "id": "b1dd8b67",
   "metadata": {},
   "outputs": [
    {
     "data": {
      "text/plain": [
       "array([[ 1.,  2.,  4.,  8., 10.,  0.,  0.,  0.,  0.,  0.,  0.,  0.,  0.,\n",
       "         0.,  0.],\n",
       "       [ 0.,  0.,  0.,  0.,  0.,  1.,  2.,  4.,  8., 10.,  0.,  0.,  0.,\n",
       "         0.,  0.],\n",
       "       [ 0.,  0.,  0.,  0.,  0.,  0.,  0.,  0.,  0.,  0.,  1.,  2.,  4.,\n",
       "         8., 10.]])"
      ]
     },
     "execution_count": 17,
     "metadata": {},
     "output_type": "execute_result"
    }
   ],
   "source": [
    "C"
   ]
  },
  {
   "cell_type": "code",
   "execution_count": 18,
   "id": "61ca692a",
   "metadata": {},
   "outputs": [
    {
     "data": {
      "text/plain": [
       "[[1, 2, 4, 8, np.int64(10)],\n",
       " [1, 2, 4, 8, np.int64(10)],\n",
       " [1, 2, 4, 8, np.int64(10)]]"
      ]
     },
     "execution_count": 18,
     "metadata": {},
     "output_type": "execute_result"
    }
   ],
   "source": [
    "all_coefficients"
   ]
  },
  {
   "cell_type": "code",
   "execution_count": 19,
   "id": "67e27699",
   "metadata": {},
   "outputs": [
    {
     "data": {
      "text/plain": [
       "((15, 15), (15,))"
      ]
     },
     "execution_count": 19,
     "metadata": {},
     "output_type": "execute_result"
    }
   ],
   "source": [
    "Q_binary = C.T @ Q @ C\n",
    "q_binary = C.T @ q\n",
    "\n",
    "Q_binary.shape, q_binary.shape"
   ]
  },
  {
   "cell_type": "code",
   "execution_count": 20,
   "id": "edbd16df",
   "metadata": {},
   "outputs": [
    {
     "name": "stdout",
     "output_type": "stream",
     "text": [
      "Range of Q_binary coefficients: [-50.00, 300.00]\n",
      "Range of q_binary coefficients: [-600.00, 100.00]\n"
     ]
    }
   ],
   "source": [
    "print(f\"Range of Q_binary coefficients: [{np.min(Q_binary):.2f}, {np.max(Q_binary):.2f}]\")\n",
    "print(f\"Range of q_binary coefficients: [{np.min(q_binary):.2f}, {np.max(q_binary):.2f}]\")"
   ]
  },
  {
   "cell_type": "code",
   "execution_count": 21,
   "id": "f0b1df0a",
   "metadata": {},
   "outputs": [],
   "source": [
    "Q_qubo = convert_to_qubo(Q_binary, q_binary)"
   ]
  },
  {
   "cell_type": "code",
   "execution_count": 22,
   "id": "97c6004c",
   "metadata": {},
   "outputs": [
    {
     "data": {
      "text/plain": [
       "(15, 15)"
      ]
     },
     "execution_count": 22,
     "metadata": {},
     "output_type": "execute_result"
    }
   ],
   "source": [
    "Q_qubo.shape"
   ]
  },
  {
   "cell_type": "code",
   "execution_count": 23,
   "id": "afbd651e",
   "metadata": {},
   "outputs": [],
   "source": [
    "bqm = dimod.BQM.from_qubo(Q_qubo)"
   ]
  },
  {
   "cell_type": "code",
   "execution_count": 24,
   "id": "e21da8c3",
   "metadata": {},
   "outputs": [],
   "source": [
    "sampler = SimulatedAnnealingSampler()\n",
    "sampleset = sampler.sample(bqm, num_reads = 100)"
   ]
  },
  {
   "cell_type": "code",
   "execution_count": 25,
   "id": "24e753d1",
   "metadata": {},
   "outputs": [],
   "source": [
    "best_sample = sampleset.first\n",
    "best_energy = best_sample.energy"
   ]
  },
  {
   "cell_type": "code",
   "execution_count": 26,
   "id": "d3344fee",
   "metadata": {},
   "outputs": [],
   "source": [
    "binary_solution = [0] * total_binary_vars\n",
    "for var_idx, value in best_sample.sample.items():\n",
    "    binary_solution[var_idx] = value"
   ]
  },
  {
   "cell_type": "code",
   "execution_count": 27,
   "id": "cdedb231",
   "metadata": {},
   "outputs": [],
   "source": [
    "integer_solution = decode_vector_bounded(binary_solution, all_coefficients, widths)"
   ]
  },
  {
   "cell_type": "code",
   "execution_count": 28,
   "id": "3492ad9f",
   "metadata": {},
   "outputs": [],
   "source": [
    "integer_solution = np.array(integer_solution)\n",
    "original_objective = integer_solution.T @ Q @ integer_solution + q.T @ integer_solution"
   ]
  },
  {
   "cell_type": "code",
   "execution_count": 29,
   "id": "5d61ace0",
   "metadata": {},
   "outputs": [
    {
     "name": "stdout",
     "output_type": "stream",
     "text": [
      "Best binary solution: [np.int8(0), np.int8(0), np.int8(0), np.int8(0), np.int8(0), np.int8(0), np.int8(0), np.int8(0), np.int8(0), np.int8(1), np.int8(0), np.int8(0), np.int8(0), np.int8(0), np.int8(0)]\n",
      "Decoded integer solution: [ 0 10  0]\n",
      "Best energy (QUBO): -300.0000\n",
      "Original objective value: -300.0000\n",
      "Known optimal: [ 0 10  0]\n",
      "Known optimal value: -300.0000\n",
      "Gap from optimal: 0.0000\n"
     ]
    }
   ],
   "source": [
    "print(f\"Best binary solution: {binary_solution}\")\n",
    "print(f\"Decoded integer solution: {integer_solution}\")\n",
    "print(f\"Best energy (QUBO): {best_energy:.4f}\")\n",
    "print(f\"Original objective value: {original_objective:.4f}\")\n",
    "print(f\"Known optimal: {x_star}\")\n",
    "print(f\"Known optimal value: {optimal_value:.4f}\")\n",
    "print(f\"Gap from optimal: {original_objective - optimal_value:.4f}\")"
   ]
  },
  {
   "cell_type": "code",
   "execution_count": 30,
   "id": "30f1f56c",
   "metadata": {},
   "outputs": [
    {
     "name": "stdout",
     "output_type": "stream",
     "text": [
      "\n",
      "10. COMPARISON WITH STANDARD BINARY ENCODING\n",
      "Standard binary encoding would use: 15 variables\n",
      "Bounded coefficient encoding uses: 15 variables\n",
      "Difference: 0 variables\n",
      "Max binary encoding coefficient: 16\n",
      "Max bounded coefficient: 10\n",
      "Coefficient reduction factor: 1.60x\n"
     ]
    }
   ],
   "source": [
    "# Step 10: Compare with binary encoding\n",
    "print(\"\\n10. COMPARISON WITH STANDARD BINARY ENCODING\")\n",
    "binary_width = math.floor(math.log2(kappa)) + 1\n",
    "binary_total_vars = binary_width * n\n",
    "bounded_total_vars = total_binary_vars\n",
    "\n",
    "print(f\"Standard binary encoding would use: {binary_total_vars} variables\")\n",
    "print(f\"Bounded coefficient encoding uses: {bounded_total_vars} variables\") \n",
    "print(f\"Difference: {bounded_total_vars - binary_total_vars} variables\")\n",
    "\n",
    "# Coefficient range analysis\n",
    "max_binary_coeff = 2**(binary_width - 1)\n",
    "max_bounded_coeff = np.max([np.max(coeffs) for coeffs in all_coefficients])\n",
    "print(f\"Max binary encoding coefficient: {max_binary_coeff}\")\n",
    "print(f\"Max bounded coefficient: {max_bounded_coeff}\")\n",
    "print(f\"Coefficient reduction factor: {max_binary_coeff / max_bounded_coeff:.2f}x\")"
   ]
  },
  {
   "cell_type": "code",
   "execution_count": 31,
   "id": "d58ac5e4",
   "metadata": {},
   "outputs": [
    {
     "data": {
      "text/plain": [
       "array([[ 1.,  2.,  4.,  8., 10.,  0.,  0.,  0.,  0.,  0.,  0.,  0.,  0.,\n",
       "         0.,  0.],\n",
       "       [ 0.,  0.,  0.,  0.,  0.,  1.,  2.,  4.,  8., 10.,  0.,  0.,  0.,\n",
       "         0.,  0.],\n",
       "       [ 0.,  0.,  0.,  0.,  0.,  0.,  0.,  0.,  0.,  0.,  1.,  2.,  4.,\n",
       "         8., 10.]])"
      ]
     },
     "execution_count": 31,
     "metadata": {},
     "output_type": "execute_result"
    }
   ],
   "source": [
    "C"
   ]
  },
  {
   "cell_type": "code",
   "execution_count": null,
   "id": "02346059",
   "metadata": {},
   "outputs": [],
   "source": []
  }
 ],
 "metadata": {
  "kernelspec": {
   "display_name": ".venv",
   "language": "python",
   "name": "python3"
  },
  "language_info": {
   "codemirror_mode": {
    "name": "ipython",
    "version": 3
   },
   "file_extension": ".py",
   "mimetype": "text/x-python",
   "name": "python",
   "nbconvert_exporter": "python",
   "pygments_lexer": "ipython3",
   "version": "3.12.7"
  }
 },
 "nbformat": 4,
 "nbformat_minor": 5
}
