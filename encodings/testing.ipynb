{
 "cells": [
  {
   "cell_type": "code",
   "execution_count": 61,
   "id": "7b5853b3",
   "metadata": {},
   "outputs": [],
   "source": [
    "import numpy as np\n",
    "import scipy.linalg as la\n",
    "import math\n",
    "import dimod\n",
    "from dimod import SimulatedAnnealingSampler\n",
    "\n",
    "from qubo_helpers import *"
   ]
  },
  {
   "cell_type": "code",
   "execution_count": 62,
   "id": "588f157e",
   "metadata": {},
   "outputs": [
    {
     "name": "stdout",
     "output_type": "stream",
     "text": [
      "Gradient at x* (should be ~0): [0. 0. 0. 0. 0. 0. 0. 0. 0. 0.]\n"
     ]
    }
   ],
   "source": [
    "Q, q, kappa_vec, x_star = generate_quip(n = 10, kappa = 100)\n",
    "optimal_energy = x_star.T @ Q @ x_star + q.T @ x_star"
   ]
  },
  {
   "cell_type": "code",
   "execution_count": 63,
   "id": "03c7529b",
   "metadata": {},
   "outputs": [
    {
     "data": {
      "text/plain": [
       "((10, 10),\n",
       " (10,),\n",
       " array([ 0,  0, 37,  0, 32,  0,  0,  0,  0, 69]),\n",
       " np.float64(-42837.0))"
      ]
     },
     "execution_count": 63,
     "metadata": {},
     "output_type": "execute_result"
    }
   ],
   "source": [
    "Q.shape, q.shape, x_star, optimal_energy"
   ]
  },
  {
   "cell_type": "markdown",
   "id": "5d39638e",
   "metadata": {},
   "source": [
    "### BINARY"
   ]
  },
  {
   "cell_type": "code",
   "execution_count": 64,
   "id": "b2ac48bc",
   "metadata": {},
   "outputs": [
    {
     "data": {
      "text/plain": [
       "[1, 2, 4, 8, 16, 32, 64]"
      ]
     },
     "execution_count": 64,
     "metadata": {},
     "output_type": "execute_result"
    }
   ],
   "source": [
    "width, coefficients = create_binary_encoder(kappa = 100)\n",
    "coefficients"
   ]
  },
  {
   "cell_type": "code",
   "execution_count": 65,
   "id": "6cee331a",
   "metadata": {},
   "outputs": [
    {
     "data": {
      "text/plain": [
       "(10, 70)"
      ]
     },
     "execution_count": 65,
     "metadata": {},
     "output_type": "execute_result"
    }
   ],
   "source": [
    "C = create_binary_encoding_matrix(10, width, coefficients)\n",
    "C.shape"
   ]
  },
  {
   "cell_type": "code",
   "execution_count": 66,
   "id": "74fda2b6",
   "metadata": {},
   "outputs": [
    {
     "data": {
      "text/plain": [
       "((70, 70), (70,))"
      ]
     },
     "execution_count": 66,
     "metadata": {},
     "output_type": "execute_result"
    }
   ],
   "source": [
    "Q_binary = C.T @ Q @ C\n",
    "q_binary = C.T @ q\n",
    "\n",
    "Q_binary.shape, q_binary.shape"
   ]
  },
  {
   "cell_type": "code",
   "execution_count": 67,
   "id": "0b282ab2",
   "metadata": {},
   "outputs": [],
   "source": [
    "Q_qubo = convert_to_qubo(Q_binary, q_binary)\n",
    "Q_qubo.shape\n",
    "\n",
    "binaryQubo = Q_qubo"
   ]
  },
  {
   "cell_type": "markdown",
   "id": "bc5f3109",
   "metadata": {},
   "source": [
    "### BOUNDED"
   ]
  },
  {
   "cell_type": "code",
   "execution_count": 68,
   "id": "6bad9927",
   "metadata": {},
   "outputs": [],
   "source": [
    "n = 10\n",
    "kappa = 100\n",
    "ell = 0.01\n",
    "c = 0.01"
   ]
  },
  {
   "cell_type": "code",
   "execution_count": 69,
   "id": "3713de76",
   "metadata": {},
   "outputs": [
    {
     "name": "stdout",
     "output_type": "stream",
     "text": [
      "Using precision parameters: ℓ=0.01, c=0.01\n",
      "ml (min linear coeff magnitude): 200.000000\n",
      "mc (min quadratic coeff magnitude): 0.500000\n",
      "Initial μ bounds: [2.88675135 2.67261242 2.88675135 2.88675135 3.53553391 4.0824829\n",
      " 3.53553391 2.88675135 2.88675135 2.67261242]\n",
      "Final μ bounds after constraint satisfaction: [2 2 2 2 3 4 3 2 2 2]\n"
     ]
    }
   ],
   "source": [
    "print(f\"Using precision parameters: ℓ={ell}, c={c}\")\n",
    "mu_vec = find_coefficient_upper_bounds(Q, q, kappa_vec, ell, c)"
   ]
  },
  {
   "cell_type": "code",
   "execution_count": 70,
   "id": "c7e41ddb",
   "metadata": {},
   "outputs": [
    {
     "name": "stdout",
     "output_type": "stream",
     "text": [
      "\n",
      "=== CREATING BOUNDED COEFFICIENT ENCODING SYSTEM ===\n",
      "  Encoding variable with κ=100, μ=8\n",
      "    Using bounded-coefficient encoding\n",
      "    ρ=4, ν=85, η=10\n",
      "    Coefficients: [1, 2, 4, 8, 8, 8, 8, 8, 8, 8, 8, 8, 8, 8, np.int64(5)]\n",
      "Variable x[0]: κ=100, μ=8, width=15, coeffs=[1, 2, 4, 8, 8, 8, 8, 8, 8, 8, 8, 8, 8, 8, np.int64(5)]\n",
      "  Encoding variable with κ=100, μ=8\n",
      "    Using bounded-coefficient encoding\n",
      "    ρ=4, ν=85, η=10\n",
      "    Coefficients: [1, 2, 4, 8, 8, 8, 8, 8, 8, 8, 8, 8, 8, 8, np.int64(5)]\n",
      "Variable x[1]: κ=100, μ=8, width=15, coeffs=[1, 2, 4, 8, 8, 8, 8, 8, 8, 8, 8, 8, 8, 8, np.int64(5)]\n",
      "  Encoding variable with κ=100, μ=8\n",
      "    Using bounded-coefficient encoding\n",
      "    ρ=4, ν=85, η=10\n",
      "    Coefficients: [1, 2, 4, 8, 8, 8, 8, 8, 8, 8, 8, 8, 8, 8, np.int64(5)]\n",
      "Variable x[2]: κ=100, μ=8, width=15, coeffs=[1, 2, 4, 8, 8, 8, 8, 8, 8, 8, 8, 8, 8, 8, np.int64(5)]\n",
      "  Encoding variable with κ=100, μ=8\n",
      "    Using bounded-coefficient encoding\n",
      "    ρ=4, ν=85, η=10\n",
      "    Coefficients: [1, 2, 4, 8, 8, 8, 8, 8, 8, 8, 8, 8, 8, 8, np.int64(5)]\n",
      "Variable x[3]: κ=100, μ=8, width=15, coeffs=[1, 2, 4, 8, 8, 8, 8, 8, 8, 8, 8, 8, 8, 8, np.int64(5)]\n",
      "  Encoding variable with κ=100, μ=8\n",
      "    Using bounded-coefficient encoding\n",
      "    ρ=4, ν=85, η=10\n",
      "    Coefficients: [1, 2, 4, 8, 8, 8, 8, 8, 8, 8, 8, 8, 8, 8, np.int64(5)]\n",
      "Variable x[4]: κ=100, μ=8, width=15, coeffs=[1, 2, 4, 8, 8, 8, 8, 8, 8, 8, 8, 8, 8, 8, np.int64(5)]\n",
      "  Encoding variable with κ=100, μ=8\n",
      "    Using bounded-coefficient encoding\n",
      "    ρ=4, ν=85, η=10\n",
      "    Coefficients: [1, 2, 4, 8, 8, 8, 8, 8, 8, 8, 8, 8, 8, 8, np.int64(5)]\n",
      "Variable x[5]: κ=100, μ=8, width=15, coeffs=[1, 2, 4, 8, 8, 8, 8, 8, 8, 8, 8, 8, 8, 8, np.int64(5)]\n",
      "  Encoding variable with κ=100, μ=8\n",
      "    Using bounded-coefficient encoding\n",
      "    ρ=4, ν=85, η=10\n",
      "    Coefficients: [1, 2, 4, 8, 8, 8, 8, 8, 8, 8, 8, 8, 8, 8, np.int64(5)]\n",
      "Variable x[6]: κ=100, μ=8, width=15, coeffs=[1, 2, 4, 8, 8, 8, 8, 8, 8, 8, 8, 8, 8, 8, np.int64(5)]\n",
      "  Encoding variable with κ=100, μ=8\n",
      "    Using bounded-coefficient encoding\n",
      "    ρ=4, ν=85, η=10\n",
      "    Coefficients: [1, 2, 4, 8, 8, 8, 8, 8, 8, 8, 8, 8, 8, 8, np.int64(5)]\n",
      "Variable x[7]: κ=100, μ=8, width=15, coeffs=[1, 2, 4, 8, 8, 8, 8, 8, 8, 8, 8, 8, 8, 8, np.int64(5)]\n",
      "  Encoding variable with κ=100, μ=8\n",
      "    Using bounded-coefficient encoding\n",
      "    ρ=4, ν=85, η=10\n",
      "    Coefficients: [1, 2, 4, 8, 8, 8, 8, 8, 8, 8, 8, 8, 8, 8, np.int64(5)]\n",
      "Variable x[8]: κ=100, μ=8, width=15, coeffs=[1, 2, 4, 8, 8, 8, 8, 8, 8, 8, 8, 8, 8, 8, np.int64(5)]\n",
      "  Encoding variable with κ=100, μ=8\n",
      "    Using bounded-coefficient encoding\n",
      "    ρ=4, ν=85, η=10\n",
      "    Coefficients: [1, 2, 4, 8, 8, 8, 8, 8, 8, 8, 8, 8, 8, 8, np.int64(5)]\n",
      "Variable x[9]: κ=100, μ=8, width=15, coeffs=[1, 2, 4, 8, 8, 8, 8, 8, 8, 8, 8, 8, 8, 8, np.int64(5)]\n",
      "Total binary variables: 150\n"
     ]
    }
   ],
   "source": [
    "all_coefficients, widths, total_binary_vars = create_bounded_encoding_system(kappa_vec, mu_vec = [8, 8, 8, 8, 8, 8, 8, 8, 8, 8])"
   ]
  },
  {
   "cell_type": "code",
   "execution_count": 71,
   "id": "da62da83",
   "metadata": {},
   "outputs": [
    {
     "data": {
      "text/plain": [
       "10"
      ]
     },
     "execution_count": 71,
     "metadata": {},
     "output_type": "execute_result"
    }
   ],
   "source": [
    "len([8, 8, 8, 8, 8, 8, 8, 8, 8, 8])"
   ]
  },
  {
   "cell_type": "code",
   "execution_count": 72,
   "id": "7b8ebd00",
   "metadata": {},
   "outputs": [
    {
     "data": {
      "text/plain": [
       "(10, 150)"
      ]
     },
     "execution_count": 72,
     "metadata": {},
     "output_type": "execute_result"
    }
   ],
   "source": [
    "C = create_bounded_encoding_matrix(n, all_coefficients, widths)\n",
    "C.shape"
   ]
  },
  {
   "cell_type": "code",
   "execution_count": 73,
   "id": "2091f218",
   "metadata": {},
   "outputs": [
    {
     "data": {
      "text/plain": [
       "((150, 150), (150,))"
      ]
     },
     "execution_count": 73,
     "metadata": {},
     "output_type": "execute_result"
    }
   ],
   "source": [
    "Q_binary = C.T @ Q @ C\n",
    "q_binary = C.T @ q\n",
    "\n",
    "Q_binary.shape, q_binary.shape"
   ]
  },
  {
   "cell_type": "code",
   "execution_count": 74,
   "id": "db89994b",
   "metadata": {},
   "outputs": [
    {
     "name": "stdout",
     "output_type": "stream",
     "text": [
      "Range of Q_binary coefficients: [-128.00, 448.00]\n",
      "Range of q_binary coefficients: [-7472.00, 1064.00]\n"
     ]
    }
   ],
   "source": [
    "print(f\"Range of Q_binary coefficients: [{np.min(Q_binary):.2f}, {np.max(Q_binary):.2f}]\")\n",
    "print(f\"Range of q_binary coefficients: [{np.min(q_binary):.2f}, {np.max(q_binary):.2f}]\")"
   ]
  },
  {
   "cell_type": "code",
   "execution_count": 75,
   "id": "4f05c42c",
   "metadata": {},
   "outputs": [],
   "source": [
    "Q_qubo = convert_to_qubo(Q_binary, q_binary)\n",
    "boundedQubo = Q_qubo"
   ]
  },
  {
   "cell_type": "code",
   "execution_count": 77,
   "id": "c1896211",
   "metadata": {},
   "outputs": [],
   "source": [
    "x_1 = np.array([0, 0, 38, 0, 33, 0, 13, 0, 0, 68])\n",
    "x_2 = np.array([0, 0, 38, 0, 31, 0, 13, 0, 0, 67])"
   ]
  },
  {
   "cell_type": "code",
   "execution_count": 95,
   "id": "03e212fc",
   "metadata": {},
   "outputs": [],
   "source": [
    "objective = lambda x : x.T @ Q @ x + q.T @ x\n",
    "gradient = lambda x : 2 * Q @ x + q"
   ]
  },
  {
   "cell_type": "code",
   "execution_count": 87,
   "id": "668ac6d1",
   "metadata": {},
   "outputs": [],
   "source": [
    "results = {\n",
    "    \"boundedEnergies\" : [],\n",
    "    \"binaryEnergies\" : [],\n",
    "    \"boundedSols\" : [],\n",
    "    \"binarySols\" : []\n",
    "}"
   ]
  },
  {
   "cell_type": "code",
   "execution_count": 88,
   "id": "aa796c73",
   "metadata": {},
   "outputs": [],
   "source": [
    "binaryBqm = dimod.BQM.from_qubo(binaryQubo)\n",
    "boundedBqm = dimod.BQM.from_qubo(boundedQubo)"
   ]
  },
  {
   "cell_type": "code",
   "execution_count": 99,
   "id": "6222cf93",
   "metadata": {},
   "outputs": [],
   "source": [
    "# BINARY\n",
    "for _ in range(10):\n",
    "    sampler = SimulatedAnnealingSampler()\n",
    "    sampleset = sampler.sample(binaryBqm)\n",
    "    results[\"binaryEnergies\"].append(sampleset.first.energy)\n",
    "    results[\"binarySols\"].append(sampleset.first)\n",
    "\n",
    "#BOUNDED\n",
    "for _ in range(10):\n",
    "    sampler = SimulatedAnnealingSampler()\n",
    "    sampleset = sampler.sample(boundedBqm)\n",
    "    results[\"boundedEnergies\"].append(sampleset.first.energy)\n",
    "    results[\"boundedSols\"].append(sampleset.first)"
   ]
  },
  {
   "cell_type": "code",
   "execution_count": 101,
   "id": "ac99a664",
   "metadata": {},
   "outputs": [
    {
     "data": {
      "text/plain": [
       "(np.float64(-43524.769230769234), np.float64(7.597103153923933))"
      ]
     },
     "execution_count": 101,
     "metadata": {},
     "output_type": "execute_result"
    }
   ],
   "source": [
    "np.mean(results[\"boundedEnergies\"]), np.std(results[\"boundedEnergies\"])"
   ]
  },
  {
   "cell_type": "code",
   "execution_count": 102,
   "id": "a530e728",
   "metadata": {},
   "outputs": [
    {
     "data": {
      "text/plain": [
       "(np.float64(-43455.03846153846), np.float64(95.45487486815261))"
      ]
     },
     "execution_count": 102,
     "metadata": {},
     "output_type": "execute_result"
    }
   ],
   "source": [
    "np.mean(results[\"binaryEnergies\"]), np.std(results[\"binaryEnergies\"])"
   ]
  },
  {
   "cell_type": "code",
   "execution_count": null,
   "id": "f3055173",
   "metadata": {},
   "outputs": [],
   "source": []
  },
  {
   "cell_type": "code",
   "execution_count": null,
   "id": "8eeebe47",
   "metadata": {},
   "outputs": [],
   "source": []
  }
 ],
 "metadata": {
  "kernelspec": {
   "display_name": ".venv",
   "language": "python",
   "name": "python3"
  },
  "language_info": {
   "codemirror_mode": {
    "name": "ipython",
    "version": 3
   },
   "file_extension": ".py",
   "mimetype": "text/x-python",
   "name": "python",
   "nbconvert_exporter": "python",
   "pygments_lexer": "ipython3",
   "version": "3.12.7"
  }
 },
 "nbformat": 4,
 "nbformat_minor": 5
}
